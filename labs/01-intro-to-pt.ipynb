{
 "cells": [
  {
   "cell_type": "markdown",
   "metadata": {},
   "source": [
    "# Deep Learning Course - LAB 1\n",
    "\n",
    "## Intro to PyTorch\n",
    "\n",
    "PyTorch (PT) is a Python (and C++ and Java) library for Machine Learning (ML) particularly suited for Neural Networks and their applications.\n",
    "\n",
    "Its great selection of built-in modules, models, functions, CUDA capability, tensor arithmetic support and automatic differentiation functionality make it one of the most used scientific libraries for Deep Learning.\n",
    "\n",
    "Note: for this series of labs, we advise to install Python >= 3.8"
   ]
  },
  {
   "cell_type": "markdown",
   "metadata": {},
   "source": [
    "### Installing PyTorch\n",
    "\n",
    "We advise to install PyTorch following the directions given in its [home page](https://pytorch.org/get-started/locally/). Just typing `pip install torch` may not be the correct action as you have to take into account the compatibility with `cuda`. If you have `cuda` installed, you can find your version by typing `nvcc --version` in a terminal (Linux/iOS). We suggest installing PyTorch inside a Conda environment as for the link indicated before.\n",
    "\n",
    "If you're using Windows, we first suggest first to install Anaconda and then install PyTorch from the `anaconda prompt` software via `conda` (preferably) or `pip`.\n",
    "\n",
    "If you're using Google Colab, all the libraries needed to follow this lecture should be pre-installed there.\n",
    "\n",
    "We see now how to operate on Colab."
   ]
  },
  {
   "cell_type": "markdown",
   "metadata": {},
   "source": [
    "### For Colab users\n",
    "\n",
    "Google Colab is a handy tool that we suggest you use for this course---especially if your laptop does not support CUDA or has limited hardware capabilities. Anyway, note that **we'll try to avoid GPU code as much as possible**.\n",
    "\n",
    "Essentially, Colab renders available to you a virtual machine with a limited hardware capability and disk where you can execute your code inside a given time window. You can even ask for a GPU (if you use it too much you'll need to start waiting a lot before it's available though)."
   ]
  },
  {
   "cell_type": "markdown",
   "metadata": {},
   "source": [
    "#### Your (maybe) first Colab commands\n",
    "\n",
    "Colab Jupyter-style notebook interface with a few tweaks.\n",
    "\n",
    "For instance, you may run (some) bash command from here prepending `!` to your code."
   ]
  },
  {
   "cell_type": "code",
   "execution_count": 9,
   "metadata": {},
   "outputs": [
    {
     "name": "stdout",
     "output_type": "stream",
     "text": [
      "01-intro-to-pt.ipynb\n"
     ]
    }
   ],
   "source": [
    "!ls"
   ]
  },
  {
   "cell_type": "code",
   "execution_count": 10,
   "metadata": {},
   "outputs": [
    {
     "name": "stdout",
     "output_type": "stream",
     "text": [
      "/home/francesco/Desktop/dssc/deeplearning/dl_course/labs\n"
     ]
    }
   ],
   "source": [
    "!pwd"
   ]
  },
  {
   "cell_type": "code",
   "execution_count": 11,
   "metadata": {},
   "outputs": [
    {
     "name": "stdout",
     "output_type": "stream",
     "text": [
      "Cloning into 'IntroToAI'...\n",
      "remote: Enumerating objects: 105, done.\u001b[K\n",
      "remote: Counting objects: 100% (39/39), done.\u001b[K\n",
      "remote: Compressing objects: 100% (32/32), done.\u001b[K\n",
      "remote: Total 105 (delta 13), reused 26 (delta 5), pack-reused 66\u001b[K\n",
      "Receiving objects: 100% (105/105), 51.55 MiB | 8.52 MiB/s, done.\n",
      "Resolving deltas: 100% (32/32), done.\n"
     ]
    }
   ],
   "source": [
    "!git clone https://github.com/mnzluca/IntroToAI"
   ]
  },
  {
   "cell_type": "markdown",
   "metadata": {},
   "source": [
    "This makes it very easy to operate your virtual machine without the need for a terminal. "
   ]
  },
  {
   "cell_type": "markdown",
   "metadata": {},
   "source": [
    "#### File transfer on Colab\n",
    "\n",
    "One of the most intricate action in Colab is file transfer. Since your files reside on the virtual machine, there're two main ways to operate file transfer on Colab.\n",
    "\n",
    "* `files.download()` / `.upload()`"
   ]
  },
  {
   "cell_type": "code",
   "execution_count": 12,
   "metadata": {},
   "outputs": [
    {
     "ename": "ModuleNotFoundError",
     "evalue": "No module named 'google'",
     "output_type": "error",
     "traceback": [
      "\u001b[0;31m---------------------------------------------------------------------------\u001b[0m",
      "\u001b[0;31mModuleNotFoundError\u001b[0m                       Traceback (most recent call last)",
      "\u001b[1;32m/home/francesco/Desktop/dssc/deeplearning/dl_course/labs/01-intro-to-pt.ipynb Cell 10'\u001b[0m in \u001b[0;36m<cell line: 1>\u001b[0;34m()\u001b[0m\n\u001b[0;32m----> <a href='vscode-notebook-cell:/home/francesco/Desktop/dssc/deeplearning/dl_course/labs/01-intro-to-pt.ipynb#ch0000009?line=0'>1</a>\u001b[0m \u001b[39mfrom\u001b[39;00m \u001b[39mgoogle\u001b[39;00m\u001b[39m.\u001b[39;00m\u001b[39mcolab\u001b[39;00m \u001b[39mimport\u001b[39;00m files\n\u001b[1;32m      <a href='vscode-notebook-cell:/home/francesco/Desktop/dssc/deeplearning/dl_course/labs/01-intro-to-pt.ipynb#ch0000009?line=1'>2</a>\u001b[0m files\u001b[39m.\u001b[39mupload()\n",
      "\u001b[0;31mModuleNotFoundError\u001b[0m: No module named 'google'"
     ]
    }
   ],
   "source": [
    "from google.colab import files\n",
    "files.upload()"
   ]
  },
  {
   "cell_type": "code",
   "execution_count": null,
   "metadata": {},
   "outputs": [],
   "source": [
    "files.download(\"sample_data/README.md\")"
   ]
  },
  {
   "cell_type": "markdown",
   "metadata": {},
   "source": [
    "Although it may be much more handy to connect your Google Drive to Colab. Here is a snippet that lets you do this."
   ]
  },
  {
   "cell_type": "code",
   "execution_count": null,
   "metadata": {},
   "outputs": [],
   "source": [
    "from google.colab import drive\n",
    "\n",
    "folder_mount = '/content/drive' # Your Drive will be mounted on top of this path\n",
    "\n",
    "drive.mount(folder_mount)"
   ]
  },
  {
   "cell_type": "markdown",
   "metadata": {},
   "source": [
    "## For VsCode users\n",
    "\n",
    "Visual Studio Code works perfectly if you're using conda environments.\n",
    "\n",
    "Just create your own conda environment, then, on VsCode, hit `Ctrl + Shift + p` and type `Python: select interpreter`. The dropdown menu should list the Python binaries within the envs you have created on your machine.\n",
    "\n",
    "![](imgs/01/vscode_select_interpreter.jpg)\n",
    "\n",
    "![](imgs/01/vscode_list_envs.jpg)\n",
    "\n",
    "Moreover, is you're running a Jupyter Notebook, you may select an interpreter the first time you run a cell during the current session."
   ]
  },
  {
   "cell_type": "markdown",
   "metadata": {},
   "source": [
    "### Dive into PyTorch - connections with NumPy\n",
    "\n",
    "Like NumPy, PyTorch provides its own multidimensional array class, called `Tensor`. `Tensor`s are essentially the equivalent of NumPy `ndarray`s.\n",
    "If we wish to operate a very superficial comparison between `Tensor` and `ndarray`, we can say that:\n",
    "* `Tensor` draws a lot of methods from NumPy, although it's missing some. The gap though is getting smaller and smaller each new release of PyTorch\n",
    "* `Tensor` is more object oriented than `ndarray` and solves some inconsistencies within NumPy\n",
    "* `Tensor` has CUDA support"
   ]
  },
  {
   "cell_type": "code",
   "execution_count": 1,
   "metadata": {},
   "outputs": [
    {
     "name": "stdout",
     "output_type": "stream",
     "text": [
      "x\n",
      "tensor([[1., 5., 4.],\n",
      "        [3., 2., 1.]])\n",
      "\n",
      "\n",
      "y\n",
      "[[1 5 4]\n",
      " [3 2 1]]\n",
      "\n",
      "\n"
     ]
    }
   ],
   "source": [
    "import torch\n",
    "import numpy as np\n",
    "\n",
    "# create custom Tensor and ndarray\n",
    "x = torch.Tensor([[1,5,4],[3,2,1]])\n",
    "y = np.array([[1,5,4],[3,2,1]])\n",
    "\n",
    "def pretty_print(obj, title=None):\n",
    "    if title is not None:\n",
    "        print(title)\n",
    "    print(obj)\n",
    "    print(\"\\n\")\n",
    "\n",
    "pretty_print(x, \"x\")\n",
    "pretty_print(y, \"y\")"
   ]
  },
  {
   "cell_type": "markdown",
   "metadata": {},
   "source": [
    "What are the types of these objs?"
   ]
  },
  {
   "cell_type": "code",
   "execution_count": 16,
   "metadata": {},
   "outputs": [
    {
     "data": {
      "text/plain": [
       "(torch.float32, dtype('int64'))"
      ]
     },
     "execution_count": 16,
     "metadata": {},
     "output_type": "execute_result"
    }
   ],
   "source": [
    "x.dtype, y.dtype"
   ]
  },
  {
   "cell_type": "markdown",
   "metadata": {},
   "source": [
    "`torch` already thinks with Machine Learning in mind as the `Tensor` is implicitly converted to `dtype float32`, while NumPy makes no such assumption.\n",
    "\n",
    "For more info on `Tensor` data types, please check the beginning of [this page](https://pytorch.org/docs/stable/tensors.html). We can use `Tensor` methods such as `.half()` or `.bool()` to convert the tensor from `float32` to `float16` or `bool` respectively.\n",
    "\n",
    "As in NumPy, we can call the `.shape` attribute to get the shape of the structures. Moreover, `Tensor`s have also the `.size()` method which is analogous to `.shape`."
   ]
  },
  {
   "cell_type": "code",
   "execution_count": 17,
   "metadata": {},
   "outputs": [
    {
     "data": {
      "text/plain": [
       "(torch.Size([2, 3]), (2, 3), torch.Size([2, 3]))"
      ]
     },
     "execution_count": 17,
     "metadata": {},
     "output_type": "execute_result"
    }
   ],
   "source": [
    "x.shape, y.shape, x.size()"
   ]
  },
  {
   "cell_type": "markdown",
   "metadata": {},
   "source": [
    "Notice how a `Tensor` shape is **not** a tuple.\n",
    "\n",
    "We can also create a random `Tensor` analogously to NumPy.\n",
    "\n",
    "A `2 × 3 × 3` `Tensor` is the same as saying \"2 3 × 3 matrices\", or a \"cubic matrix\"\n",
    "\n",
    "![](img/tensors.jpg)"
   ]
  },
  {
   "cell_type": "code",
   "execution_count": 18,
   "metadata": {},
   "outputs": [
    {
     "data": {
      "text/plain": [
       "tensor([[[0.9875, 0.3696, 0.8474],\n",
       "         [0.4265, 0.8342, 0.2753],\n",
       "         [0.3097, 0.6062, 0.4137]],\n",
       "\n",
       "        [[0.0314, 0.7634, 0.7945],\n",
       "         [0.0929, 0.5338, 0.4279],\n",
       "         [0.2555, 0.1934, 0.6099]]])"
      ]
     },
     "execution_count": 18,
     "metadata": {},
     "output_type": "execute_result"
    }
   ],
   "source": [
    "x = torch.rand([2, 3, 3])\n",
    "x"
   ]
  },
  {
   "cell_type": "code",
   "execution_count": 19,
   "metadata": {},
   "outputs": [
    {
     "data": {
      "text/plain": [
       "array([[[0.33163279, 0.88199571, 0.56317543],\n",
       "        [0.54212913, 0.01772852, 0.60164033],\n",
       "        [0.96524917, 0.65273472, 0.8313434 ]],\n",
       "\n",
       "       [[0.98725535, 0.92524922, 0.6320534 ],\n",
       "        [0.03712309, 0.57980096, 0.60142504],\n",
       "        [0.30663184, 0.43416144, 0.98777024]]])"
      ]
     },
     "execution_count": 19,
     "metadata": {},
     "output_type": "execute_result"
    }
   ],
   "source": [
    "y = np.random.rand(2, 3, 3)\n",
    "y"
   ]
  },
  {
   "cell_type": "markdown",
   "metadata": {},
   "source": [
    "We can get the total number of elements in a `Tensor` via the `numel()` method"
   ]
  },
  {
   "cell_type": "code",
   "execution_count": 20,
   "metadata": {},
   "outputs": [
    {
     "data": {
      "text/plain": [
       "18"
      ]
     },
     "execution_count": 20,
     "metadata": {},
     "output_type": "execute_result"
    }
   ],
   "source": [
    "x.numel()"
   ]
  },
  {
   "cell_type": "markdown",
   "metadata": {},
   "source": [
    "We can get the memory occupied by each element of a `Tensor` via `element_size()`"
   ]
  },
  {
   "cell_type": "code",
   "execution_count": 21,
   "metadata": {},
   "outputs": [
    {
     "data": {
      "text/plain": [
       "4"
      ]
     },
     "execution_count": 21,
     "metadata": {},
     "output_type": "execute_result"
    }
   ],
   "source": [
    "x.element_size()"
   ]
  },
  {
   "cell_type": "markdown",
   "metadata": {},
   "source": [
    "Hence, we can quickly calculate the size of the `Tensor` within the RAM"
   ]
  },
  {
   "cell_type": "code",
   "execution_count": 22,
   "metadata": {},
   "outputs": [
    {
     "data": {
      "text/plain": [
       "72"
      ]
     },
     "execution_count": 22,
     "metadata": {},
     "output_type": "execute_result"
    }
   ],
   "source": [
    "x.numel() * x.element_size()"
   ]
  },
  {
   "cell_type": "markdown",
   "metadata": {},
   "source": [
    "#### Slicing a `Tensor`\n",
    "\n",
    "You can slice a `Tensor` (*i.e.*, extract a substructure of a `Tensor`) as in NumPy using the square brackets:"
   ]
  },
  {
   "cell_type": "code",
   "execution_count": 23,
   "metadata": {},
   "outputs": [
    {
     "name": "stdout",
     "output_type": "stream",
     "text": [
      "Slice first element (x[0])\n",
      "tensor([[0.9875, 0.3696, 0.8474],\n",
      "        [0.4265, 0.8342, 0.2753],\n",
      "        [0.3097, 0.6062, 0.4137]])\n",
      "\n",
      "\n",
      "Slice element at (1, 2, 0) (x[1, 2, 0])\n",
      "tensor(0.2555)\n",
      "\n",
      "\n",
      "Slice first element of second dim (x[:, 0])\n",
      "tensor([[0.9875, 0.3696, 0.8474],\n",
      "        [0.0314, 0.7634, 0.7945]])\n",
      "\n",
      "\n",
      "As above (x[:, 0] equivalent to x[:, 0, :])\n",
      "tensor([[0.9875, 0.3696, 0.8474],\n",
      "        [0.0314, 0.7634, 0.7945]])\n",
      "\n",
      "\n",
      "Slice first and second el of third dim (x[:, :, 0:2])\n",
      "tensor([[[0.9875, 0.3696],\n",
      "         [0.4265, 0.8342],\n",
      "         [0.3097, 0.6062]],\n",
      "\n",
      "        [[0.0314, 0.7634],\n",
      "         [0.0929, 0.5338],\n",
      "         [0.2555, 0.1934]]])\n",
      "\n",
      "\n",
      "As above (x[:, :, 0:2] equivalent to x[:, :, (0, 1)])\n",
      "tensor([[[0.9875, 0.3696],\n",
      "         [0.4265, 0.8342],\n",
      "         [0.3097, 0.6062]],\n",
      "\n",
      "        [[0.0314, 0.7634],\n",
      "         [0.0929, 0.5338],\n",
      "         [0.2555, 0.1934]]])\n",
      "\n",
      "\n"
     ]
    }
   ],
   "source": [
    "# extract first element (i.e., matrix) of first dimension\n",
    "pretty_print(x[0], \"Slice first element (x[0])\")\n",
    "\n",
    "# extract a specific element\n",
    "pretty_print(x[1,2,0], \"Slice element at (1, 2, 0) (x[1, 2, 0])\")\n",
    "\n",
    "# extract first element of second dimension (\":\" means all the elements of the given dim)\n",
    "pretty_print(x[:, 0], \"Slice first element of second dim (x[:, 0])\")\n",
    "\n",
    "# note that it is equivalent to\n",
    "pretty_print(x[:, 0, :], \"As above (x[:, 0] equivalent to x[:, 0, :])\")\n",
    "\n",
    "# extract range of dimensions (first and second element of third dim) \n",
    "pretty_print(x[:, :, 0:2], \"Slice first and second el of third dim (x[:, :, 0:2])\")\n",
    "\n",
    "# note that it is equivalent to (i.e., you can also pass list for slicing, as opposed to Py vanilla lists/tuples)\n",
    "pretty_print(x[:, :, (0, 1)], \"As above (x[:, :, 0:2] equivalent to x[:, :, (0, 1)])\")"
   ]
  },
  {
   "cell_type": "markdown",
   "metadata": {},
   "source": [
    "In Py, you can also slice any list by interval via the \"double colon\" notation `::` (`from` : `(to - 1)` :`step`). Note that `::3` means \"take all elements of the object by step of 3 starting from 0 until the list ends\"."
   ]
  },
  {
   "cell_type": "code",
   "execution_count": 24,
   "metadata": {},
   "outputs": [
    {
     "data": {
      "text/plain": [
       "tensor([0, 3, 6])"
      ]
     },
     "execution_count": 24,
     "metadata": {},
     "output_type": "execute_result"
    }
   ],
   "source": [
    "torch.arange(0, 10)[0:7:3]"
   ]
  },
  {
   "cell_type": "markdown",
   "metadata": {},
   "source": [
    "#### `Tensor` supports linear algebra"
   ]
  },
  {
   "cell_type": "code",
   "execution_count": 25,
   "metadata": {},
   "outputs": [
    {
     "name": "stdout",
     "output_type": "stream",
     "text": [
      "z1\n",
      "shape torch.Size([4, 5])\n",
      "tensor([[0.7653, 0.8534, 0.5285, 0.8342, 0.4809],\n",
      "        [0.8608, 0.9645, 0.3755, 0.0715, 0.3104],\n",
      "        [0.9661, 0.5895, 0.9135, 0.6129, 0.4838],\n",
      "        [0.7773, 0.6064, 0.0437, 0.4200, 0.2028]])\n",
      "\n",
      "z2\n",
      "shape torch.Size([5, 4])\n",
      "tensor([[0.7653, 0.8608, 0.9661, 0.7773],\n",
      "        [0.8534, 0.9645, 0.5895, 0.6064],\n",
      "        [0.5285, 0.3755, 0.9135, 0.0437],\n",
      "        [0.8342, 0.0715, 0.6129, 0.4200],\n",
      "        [0.4809, 0.3104, 0.4838, 0.2028]])\n"
     ]
    }
   ],
   "source": [
    "z1 = torch.rand([4, 5])\n",
    "print(\"z1\")\n",
    "print(\"shape\", z1.shape)\n",
    "print(z1)\n",
    "\n",
    "# transposition\n",
    "z2 = z1.T\n",
    "\n",
    "print(\"\\nz2\")\n",
    "print(\"shape\", z2.shape)\n",
    "print(z2)"
   ]
  },
  {
   "cell_type": "code",
   "execution_count": 26,
   "metadata": {},
   "outputs": [
    {
     "name": "stdout",
     "output_type": "stream",
     "text": [
      "Matrix multiplication: with '@'\n",
      "tensor([[2.5203, 1.8892, 2.4691, 1.5833],\n",
      "        [1.8892, 1.9136, 1.9371, 1.3633],\n",
      "        [2.4691, 1.9371, 2.7250, 1.5039],\n",
      "        [1.5833, 1.3633, 1.5039, 1.1913]])\n",
      "\n",
      "\n",
      "Matrix multiplication: with torch.matmul\n",
      "tensor([[2.5203, 1.8892, 2.4691, 1.5833],\n",
      "        [1.8892, 1.9136, 1.9371, 1.3633],\n",
      "        [2.4691, 1.9371, 2.7250, 1.5039],\n",
      "        [1.5833, 1.3633, 1.5039, 1.1913]])\n",
      "\n",
      "\n",
      "Matrix multiplication: with Tensor.matmul\n",
      "tensor([[2.5203, 1.8892, 2.4691, 1.5833],\n",
      "        [1.8892, 1.9136, 1.9371, 1.3633],\n",
      "        [2.4691, 1.9371, 2.7250, 1.5039],\n",
      "        [1.5833, 1.3633, 1.5039, 1.1913]])\n",
      "\n",
      "\n"
     ]
    }
   ],
   "source": [
    "# matrix multiplication\n",
    "pretty_print(z1 @ z2, \"Matrix multiplication: with '@'\")\n",
    "\n",
    "# equivalent to\n",
    "pretty_print(torch.matmul(z1, z2), \"Matrix multiplication: with torch.matmul\")\n",
    "\n",
    "# and also\n",
    "pretty_print(z1.matmul(z2), \"Matrix multiplication: with Tensor.matmul\")"
   ]
  },
  {
   "cell_type": "markdown",
   "metadata": {},
   "source": [
    "Note that `@` identifies the matrix product.\n",
    "\n",
    "Don't mistake `@` and `*` as the latter is the Hadamard (element-by-element) product!"
   ]
  },
  {
   "cell_type": "markdown",
   "metadata": {},
   "source": [
    "#### Question: is it possible to do scalar product between vectors?\n",
    "\n",
    "Note: the scalar product is also called [inner or dot or projection product](https://en.wikipedia.org/wiki/Dot_product).\n",
    "\n",
    "Like we have seen with matrices, we can proceed as follows for vectors:"
   ]
  },
  {
   "cell_type": "code",
   "execution_count": 27,
   "metadata": {},
   "outputs": [
    {
     "name": "stdout",
     "output_type": "stream",
     "text": [
      "vec1\n",
      "tensor([0.8323, 0.1770, 0.9439, 0.5592, 0.6208])\n",
      "\n",
      "\n",
      "vec2\n",
      "tensor([0.2641, 0.9689, 0.3940, 0.3166, 0.9162])\n",
      "\n",
      "\n",
      "I can use '@' even if the two vectors aren't conformable (i.e. both colum or row vectors\n",
      "tensor(1.5090)\n",
      "\n",
      "\n",
      "This is the 'classical' inner product between row and column vector -- Notice the dim of the output\n",
      "tensor([[1.5090]])\n",
      "\n",
      "\n",
      "Notice that the same result can be achieved via the `matmul` method of torch -- as we have seen, it's the inner product\n",
      "tensor(1.5090)\n",
      "\n",
      "\n",
      "...and also via torch.dot\n",
      "tensor(1.5090)\n",
      "\n",
      "\n"
     ]
    }
   ],
   "source": [
    "vec1 = torch.rand((5,))\n",
    "vec2 = torch.rand((5,))\n",
    "\n",
    "pretty_print(vec1, \"vec1\")\n",
    "pretty_print(vec2, \"vec2\")\n",
    "\n",
    "pretty_print(vec1 @ vec2, \"I can use '@' even if the two vectors aren't conformable (i.e. both colum or row vectors\")\n",
    "\n",
    "pretty_print(vec1.unsqueeze(0) @ vec2.unsqueeze(-1), \"This is the 'classical' inner product between row and column vector -- Notice the dim of the output\")\n",
    "\n",
    "pretty_print(torch.matmul(vec1, vec2), \"Notice that the same result can be achieved via the `matmul` method of torch -- as we have seen, it's the inner product\")\n",
    "\n",
    "pretty_print(torch.dot(vec1, vec2), \"...and also via torch.dot\")"
   ]
  },
  {
   "cell_type": "code",
   "execution_count": 41,
   "metadata": {},
   "outputs": [
    {
     "ename": "RuntimeError",
     "evalue": "1D tensors expected, but got 2D and 2D tensors",
     "output_type": "error",
     "traceback": [
      "\u001b[0;31m---------------------------------------------------------------------------\u001b[0m",
      "\u001b[0;31mRuntimeError\u001b[0m                              Traceback (most recent call last)",
      "\u001b[1;32m/home/francesco/Desktop/dssc/deeplearning/DSSC_DL_2022/labs/01-intro-to-pt.ipynb Cell 40'\u001b[0m in \u001b[0;36m<cell line: 2>\u001b[0;34m()\u001b[0m\n\u001b[1;32m      <a href='vscode-notebook-cell:/home/francesco/Desktop/dssc/deeplearning/DSSC_DL_2022/labs/01-intro-to-pt.ipynb#ch0000039?line=0'>1</a>\u001b[0m \u001b[39m# dot works only with vectors!\u001b[39;00m\n\u001b[0;32m----> <a href='vscode-notebook-cell:/home/francesco/Desktop/dssc/deeplearning/DSSC_DL_2022/labs/01-intro-to-pt.ipynb#ch0000039?line=1'>2</a>\u001b[0m torch\u001b[39m.\u001b[39;49mdot(torch\u001b[39m.\u001b[39;49mrand((\u001b[39m3\u001b[39;49m,\u001b[39m4\u001b[39;49m)), torch\u001b[39m.\u001b[39;49mrand(\u001b[39m4\u001b[39;49m,\u001b[39m3\u001b[39;49m))\n\u001b[1;32m      <a href='vscode-notebook-cell:/home/francesco/Desktop/dssc/deeplearning/DSSC_DL_2022/labs/01-intro-to-pt.ipynb#ch0000039?line=3'>4</a>\u001b[0m \u001b[39m# do this instead!\u001b[39;00m\n\u001b[1;32m      <a href='vscode-notebook-cell:/home/francesco/Desktop/dssc/deeplearning/DSSC_DL_2022/labs/01-intro-to-pt.ipynb#ch0000039?line=4'>5</a>\u001b[0m torch\u001b[39m.\u001b[39mmatmul(torch\u001b[39m.\u001b[39mrand((\u001b[39m3\u001b[39m,\u001b[39m4\u001b[39m)), torch\u001b[39m.\u001b[39mrand(\u001b[39m4\u001b[39m,\u001b[39m3\u001b[39m))\n",
      "\u001b[0;31mRuntimeError\u001b[0m: 1D tensors expected, but got 2D and 2D tensors"
     ]
    }
   ],
   "source": [
    "# dot works only with vectors!\n",
    "torch.dot(torch.rand((3,4)), torch.rand(4,3))\n",
    "\n",
    "# do this instead!\n",
    "torch.matmul(torch.rand((3,4)), torch.rand(4,3))"
   ]
  },
  {
   "cell_type": "markdown",
   "metadata": {},
   "source": [
    "On to the tutorial, let us see more examples of operations on tensors and conformability between tensors...."
   ]
  },
  {
   "cell_type": "code",
   "execution_count": 42,
   "metadata": {},
   "outputs": [
    {
     "ename": "RuntimeError",
     "evalue": "The size of tensor a (5) must match the size of tensor b (4) at non-singleton dimension 1",
     "output_type": "error",
     "traceback": [
      "\u001b[0;31m---------------------------------------------------------------------------\u001b[0m",
      "\u001b[0;31mRuntimeError\u001b[0m                              Traceback (most recent call last)",
      "\u001b[1;32m/home/francesco/Desktop/dssc/deeplearning/DSSC_DL_2022/labs/01-intro-to-pt.ipynb Cell 42'\u001b[0m in \u001b[0;36m<cell line: 1>\u001b[0;34m()\u001b[0m\n\u001b[0;32m----> <a href='vscode-notebook-cell:/home/francesco/Desktop/dssc/deeplearning/DSSC_DL_2022/labs/01-intro-to-pt.ipynb#ch0000041?line=0'>1</a>\u001b[0m z1 \u001b[39m*\u001b[39;49m z2\n",
      "\u001b[0;31mRuntimeError\u001b[0m: The size of tensor a (5) must match the size of tensor b (4) at non-singleton dimension 1"
     ]
    }
   ],
   "source": [
    "z1 * z2 # this gives an Exception"
   ]
  },
  {
   "cell_type": "code",
   "execution_count": 43,
   "metadata": {},
   "outputs": [
    {
     "data": {
      "text/plain": [
       "tensor([[0.5856, 0.7283, 0.2793, 0.6958, 0.2313],\n",
       "        [0.7409, 0.9302, 0.1410, 0.0051, 0.0964],\n",
       "        [0.9333, 0.3475, 0.8345, 0.3757, 0.2341],\n",
       "        [0.6042, 0.3677, 0.0019, 0.1764, 0.0411]])"
      ]
     },
     "execution_count": 43,
     "metadata": {},
     "output_type": "execute_result"
    }
   ],
   "source": [
    "z1 * z1"
   ]
  },
  {
   "cell_type": "markdown",
   "metadata": {},
   "source": [
    "Generally, the \"regular\" arithmetic operators for Python act as element-wise operators in `Tensor`s (as in `ndarrays`)"
   ]
  },
  {
   "cell_type": "code",
   "execution_count": 44,
   "metadata": {},
   "outputs": [
    {
     "data": {
      "text/plain": [
       "tensor([[0.5856, 0.7283, 0.2793, 0.6958, 0.2313],\n",
       "        [0.7409, 0.9302, 0.1410, 0.0051, 0.0964],\n",
       "        [0.9333, 0.3475, 0.8345, 0.3757, 0.2341],\n",
       "        [0.6042, 0.3677, 0.0019, 0.1764, 0.0411]])"
      ]
     },
     "execution_count": 44,
     "metadata": {},
     "output_type": "execute_result"
    }
   ],
   "source": [
    "z1 ** 2 # Equivalent to above"
   ]
  },
  {
   "cell_type": "code",
   "execution_count": 45,
   "metadata": {},
   "outputs": [
    {
     "name": "stdout",
     "output_type": "stream",
     "text": [
      "z1 % z3 (remainder of integer division)\n",
      "tensor([[ 0.7653,  0.8534,  0.5285,  0.8342,  0.4809],\n",
      "        [ 0.0608,  0.9645,  0.3755,  0.0715,  0.3104],\n",
      "        [-0.0339,  0.5895, -3.0865,  0.6129,  0.4838],\n",
      "        [ 0.7773,  0.6064,  0.0437,  0.4200,  0.2028]])\n",
      "\n",
      "\n",
      "z3 // z1 (integer division)\n",
      "tensor([[ 1.,  2.,  5.,  4., 14.],\n",
      "        [ 0.,  2., 10., 69.,  9.],\n",
      "        [-1.,  5., -4.,  3.,  4.],\n",
      "        [ 1.,  1., 22.,  2.,  9.]])\n",
      "\n",
      "\n",
      "in-place tensor division (z3 /= z1)\n",
      "tensor([[ 1.3067,  2.3436,  5.6768,  4.7952, 14.5549],\n",
      "        [ 0.2324,  2.0737, 10.6519, 69.9422,  9.6647],\n",
      "        [-1.0351,  5.0894, -4.3787,  3.2629,  4.1336],\n",
      "        [ 1.2865,  1.6492, 22.8596,  2.3810,  9.8612]])\n",
      "\n",
      "\n"
     ]
    },
    {
     "name": "stderr",
     "output_type": "stream",
     "text": [
      "/tmp/ipykernel_8523/3229365867.py:3: UserWarning: __floordiv__ is deprecated, and its behavior will change in a future version of pytorch. It currently rounds toward 0 (like the 'trunc' function NOT 'floor'). This results in incorrect rounding for negative values. To keep the current behavior, use torch.div(a, b, rounding_mode='trunc'), or for actual floor division, use torch.div(a, b, rounding_mode='floor').\n",
      "  pretty_print(z3 // z1, \"z3 // z1 (integer division)\") # integer division\n"
     ]
    }
   ],
   "source": [
    "z3 = torch.Tensor([[1,2,3,4,7],[0.2,2,4,5,3],[-1,3,-4,2,2],[1,1,1,1,2]])\n",
    "pretty_print(z1 % z3, \"z1 % z3 (remainder of integer division)\")\n",
    "pretty_print(z3 // z1, \"z3 // z1 (integer division)\") # integer division\n",
    "z3 /= z1\n",
    "pretty_print(z3, \"in-place tensor division (z3 /= z1)\")"
   ]
  },
  {
   "cell_type": "markdown",
   "metadata": {},
   "source": [
    "In some PyTorch-based libraries, you will also see things like"
   ]
  },
  {
   "cell_type": "code",
   "execution_count": 46,
   "metadata": {},
   "outputs": [
    {
     "data": {
      "text/plain": [
       "tensor([[ 1.0000,  2.0000,  3.0000,  4.0000,  7.0000],\n",
       "        [ 0.2000,  2.0000,  4.0000,  5.0000,  3.0000],\n",
       "        [-1.0000,  3.0000, -4.0000,  2.0000,  2.0000],\n",
       "        [ 1.0000,  1.0000,  1.0000,  1.0000,  2.0000]])"
      ]
     },
     "execution_count": 46,
     "metadata": {},
     "output_type": "execute_result"
    }
   ],
   "source": [
    "z3.mul(z1)\n",
    "#this is equivalent to z3*z1"
   ]
  },
  {
   "cell_type": "markdown",
   "metadata": {},
   "source": [
    "or, for in-place operations, you will also see"
   ]
  },
  {
   "cell_type": "code",
   "execution_count": 47,
   "metadata": {},
   "outputs": [
    {
     "data": {
      "text/plain": [
       "tensor([[ 1.0000,  2.0000,  3.0000,  4.0000,  7.0000],\n",
       "        [ 0.2000,  2.0000,  4.0000,  5.0000,  3.0000],\n",
       "        [-1.0000,  3.0000, -4.0000,  2.0000,  2.0000],\n",
       "        [ 1.0000,  1.0000,  1.0000,  1.0000,  2.0000]])"
      ]
     },
     "execution_count": 47,
     "metadata": {},
     "output_type": "execute_result"
    }
   ],
   "source": [
    "z3.mul_(z1)"
   ]
  },
  {
   "cell_type": "markdown",
   "metadata": {},
   "source": [
    "this also applies to other operations (not necessarily arithmetical, also boolean):"
   ]
  },
  {
   "cell_type": "code",
   "execution_count": 14,
   "metadata": {},
   "outputs": [
    {
     "ename": "NameError",
     "evalue": "name 'z3' is not defined",
     "output_type": "error",
     "traceback": [
      "\u001b[0;31m---------------------------------------------------------------------------\u001b[0m",
      "\u001b[0;31mNameError\u001b[0m                                 Traceback (most recent call last)",
      "\u001b[1;32m/home/francesco/Desktop/dssc/deeplearning/dl_course/labs/01-intro-to-pt.ipynb Cell 52'\u001b[0m in \u001b[0;36m<cell line: 1>\u001b[0;34m()\u001b[0m\n\u001b[0;32m----> <a href='vscode-notebook-cell:/home/francesco/Desktop/dssc/deeplearning/dl_course/labs/01-intro-to-pt.ipynb#ch0000051?line=0'>1</a>\u001b[0m pretty_print(z3 \u001b[39m==\u001b[39m z3 \u001b[39m*\u001b[39m\u001b[39m*\u001b[39m \u001b[39m2\u001b[39m, \u001b[39m\"\u001b[39m\u001b[39mIn the Pythonic way (z3 == z3 ** 2)...\u001b[39m\u001b[39m\"\u001b[39m)\n\u001b[1;32m      <a href='vscode-notebook-cell:/home/francesco/Desktop/dssc/deeplearning/dl_course/labs/01-intro-to-pt.ipynb#ch0000051?line=2'>3</a>\u001b[0m pretty_print(z3\u001b[39m.\u001b[39meq(z3\u001b[39m.\u001b[39mpow(\u001b[39m2\u001b[39m)), \u001b[39m\"\u001b[39m\u001b[39m...and in the \u001b[39m\u001b[39m'\u001b[39m\u001b[39mPyTorch\u001b[39m\u001b[39m'\u001b[39m\u001b[39m way (z3.eq(z3.pow(2))\u001b[39m\u001b[39m\"\u001b[39m)\n",
      "\u001b[0;31mNameError\u001b[0m: name 'z3' is not defined"
     ]
    }
   ],
   "source": [
    "pretty_print(z3 == z3 ** 2, \"In the Pythonic way (z3 == z3 ** 2)...\")\n",
    "\n",
    "pretty_print(z3.eq(z3.pow(2)), \"...and in the 'PyTorch' way (z3.eq(z3.pow(2))\")"
   ]
  },
  {
   "cell_type": "markdown",
   "metadata": {},
   "source": [
    "PyTorch abides to one of Python unwritten rules: method names ending with a single \"_\" and not starting with one are meant to indicate in-place operations, which mutate the object they're called from."
   ]
  },
  {
   "cell_type": "markdown",
   "metadata": {},
   "source": [
    "As for `ndarrays`, `Tensor`s arithmetic operations support **broadcasting**. Roughly speaking, when two `Tensor`s have different shapes and a binary operator is applied to them, PT will try to find a way to make these objects \"compatible\" for the operation. \n",
    "\n",
    "Of course, broadcasting is not always possible, but as a rule of thumb, if some dimensions of a `Tensor` are one and the other dimensions are the same, broadcasting works."
   ]
  },
  {
   "cell_type": "code",
   "execution_count": 15,
   "metadata": {},
   "outputs": [
    {
     "name": "stdout",
     "output_type": "stream",
     "text": [
      "small_vector_5: tensor([1., 2., 3., 5., 2.]) ; Shape: torch.Size([5]) \n",
      "\n"
     ]
    },
    {
     "ename": "NameError",
     "evalue": "name 'z1' is not defined",
     "output_type": "error",
     "traceback": [
      "\u001b[0;31m---------------------------------------------------------------------------\u001b[0m",
      "\u001b[0;31mNameError\u001b[0m                                 Traceback (most recent call last)",
      "\u001b[1;32m/home/francesco/Desktop/dssc/deeplearning/dl_course/labs/01-intro-to-pt.ipynb Cell 55'\u001b[0m in \u001b[0;36m<cell line: 4>\u001b[0;34m()\u001b[0m\n\u001b[1;32m      <a href='vscode-notebook-cell:/home/francesco/Desktop/dssc/deeplearning/dl_course/labs/01-intro-to-pt.ipynb#ch0000054?line=0'>1</a>\u001b[0m small_vector_5 \u001b[39m=\u001b[39m torch\u001b[39m.\u001b[39mTensor([\u001b[39m1\u001b[39m,\u001b[39m2\u001b[39m,\u001b[39m3\u001b[39m,\u001b[39m5\u001b[39m,\u001b[39m2\u001b[39m]) \u001b[39m# this is treated as a row vector (1 x 5 matrix)\u001b[39;00m\n\u001b[1;32m      <a href='vscode-notebook-cell:/home/francesco/Desktop/dssc/deeplearning/dl_course/labs/01-intro-to-pt.ipynb#ch0000054?line=1'>2</a>\u001b[0m \u001b[39mprint\u001b[39m(\u001b[39m\"\u001b[39m\u001b[39msmall_vector_5:\u001b[39m\u001b[39m\"\u001b[39m, small_vector_5, \u001b[39m\"\u001b[39m\u001b[39m; Shape:\u001b[39m\u001b[39m\"\u001b[39m, small_vector_5\u001b[39m.\u001b[39mshape, \u001b[39m\"\u001b[39m\u001b[39m\\n\u001b[39;00m\u001b[39m\"\u001b[39m)\n\u001b[0;32m----> <a href='vscode-notebook-cell:/home/francesco/Desktop/dssc/deeplearning/dl_course/labs/01-intro-to-pt.ipynb#ch0000054?line=3'>4</a>\u001b[0m pretty_print(z1 \u001b[39m/\u001b[39m small_vector_5, \u001b[39m\"\u001b[39m\u001b[39mBroadcasting: dividing matrix by row vector\u001b[39m\u001b[39m\"\u001b[39m)\n\u001b[1;32m      <a href='vscode-notebook-cell:/home/francesco/Desktop/dssc/deeplearning/dl_course/labs/01-intro-to-pt.ipynb#ch0000054?line=5'>6</a>\u001b[0m small_vector_4 \u001b[39m=\u001b[39m torch\u001b[39m.\u001b[39mTensor([\u001b[39m4\u001b[39m,\u001b[39m2\u001b[39m,\u001b[39m3\u001b[39m,\u001b[39m1\u001b[39m])\n\u001b[1;32m      <a href='vscode-notebook-cell:/home/francesco/Desktop/dssc/deeplearning/dl_course/labs/01-intro-to-pt.ipynb#ch0000054?line=6'>7</a>\u001b[0m small_vector_4 \u001b[39m=\u001b[39m small_vector_4\u001b[39m.\u001b[39munsqueeze(\u001b[39m-\u001b[39m\u001b[39m1\u001b[39m) \u001b[39m# this operation \"transposes\" the vector into a column vector (4 x 1 matrix)\u001b[39;00m\n",
      "\u001b[0;31mNameError\u001b[0m: name 'z1' is not defined"
     ]
    }
   ],
   "source": [
    "small_vector_5 = torch.Tensor([1,2,3,5,2]) # this is treated as a row vector (1 x 5 matrix)\n",
    "print(\"small_vector_5:\", small_vector_5, \"; Shape:\", small_vector_5.shape, \"\\n\")\n",
    "\n",
    "pretty_print(z1 / small_vector_5, \"Broadcasting: dividing matrix by row vector\")\n",
    "\n",
    "small_vector_4 = torch.Tensor([4,2,3,1])\n",
    "small_vector_4 = small_vector_4.unsqueeze(-1) # this operation \"transposes\" the vector into a column vector (4 x 1 matrix)\n",
    "print(\"small_vector_4:\\n\", small_vector_4, \"\\nShape:\", small_vector_4.shape, \"\\n\")\n",
    "\n",
    "pretty_print(z1 / small_vector_4, \"Broadcasting: dividing matrix by column vector\")"
   ]
  },
  {
   "cell_type": "code",
   "execution_count": 16,
   "metadata": {},
   "outputs": [
    {
     "data": {
      "text/plain": [
       "tensor([[True, True, True]])"
      ]
     },
     "execution_count": 16,
     "metadata": {},
     "output_type": "execute_result"
    }
   ],
   "source": [
    "torch.Tensor([1,2,3]) == torch.Tensor([[1,2,3]]) # single-dim Tensors are also row vectors"
   ]
  },
  {
   "cell_type": "markdown",
   "metadata": {},
   "source": [
    "#### Reshaping and permuting\n",
    "\n",
    "Sometimes it may be necessary to reshape the tensors to apply some specific operators.\n",
    "\n",
    "Take the example of RGB images: they can be seen as `3 x h x w` tensors, where `h` is the height and `w` the width.\n",
    "\n",
    "![](img/image_tensor.png)\n",
    "\n",
    "Sometimes, it may be necessary to \"flatten\" the three matrices into vectors, thus obtaining a `3 x hw` tensor."
   ]
  },
  {
   "cell_type": "code",
   "execution_count": 17,
   "metadata": {},
   "outputs": [
    {
     "ename": "FileNotFoundError",
     "evalue": "[Errno 2] No such file or directory: 'data/img.pt'",
     "output_type": "error",
     "traceback": [
      "\u001b[0;31m---------------------------------------------------------------------------\u001b[0m",
      "\u001b[0;31mFileNotFoundError\u001b[0m                         Traceback (most recent call last)",
      "\u001b[1;32m/home/francesco/Desktop/dssc/deeplearning/dl_course/labs/01-intro-to-pt.ipynb Cell 58'\u001b[0m in \u001b[0;36m<cell line: 1>\u001b[0;34m()\u001b[0m\n\u001b[0;32m----> <a href='vscode-notebook-cell:/home/francesco/Desktop/dssc/deeplearning/dl_course/labs/01-intro-to-pt.ipynb#ch0000057?line=0'>1</a>\u001b[0m image \u001b[39m=\u001b[39m torch\u001b[39m.\u001b[39;49mload(\u001b[39m\"\u001b[39;49m\u001b[39mdata/img.pt\u001b[39;49m\u001b[39m\"\u001b[39;49m)\n\u001b[1;32m      <a href='vscode-notebook-cell:/home/francesco/Desktop/dssc/deeplearning/dl_course/labs/01-intro-to-pt.ipynb#ch0000057?line=1'>2</a>\u001b[0m image\u001b[39m.\u001b[39mshape\n",
      "File \u001b[0;32m~/anaconda3/envs/dl/lib/python3.9/site-packages/torch/serialization.py:594\u001b[0m, in \u001b[0;36mload\u001b[0;34m(f, map_location, pickle_module, **pickle_load_args)\u001b[0m\n\u001b[1;32m    <a href='file:///home/francesco/anaconda3/envs/dl/lib/python3.9/site-packages/torch/serialization.py?line=590'>591</a>\u001b[0m \u001b[39mif\u001b[39;00m \u001b[39m'\u001b[39m\u001b[39mencoding\u001b[39m\u001b[39m'\u001b[39m \u001b[39mnot\u001b[39;00m \u001b[39min\u001b[39;00m pickle_load_args\u001b[39m.\u001b[39mkeys():\n\u001b[1;32m    <a href='file:///home/francesco/anaconda3/envs/dl/lib/python3.9/site-packages/torch/serialization.py?line=591'>592</a>\u001b[0m     pickle_load_args[\u001b[39m'\u001b[39m\u001b[39mencoding\u001b[39m\u001b[39m'\u001b[39m] \u001b[39m=\u001b[39m \u001b[39m'\u001b[39m\u001b[39mutf-8\u001b[39m\u001b[39m'\u001b[39m\n\u001b[0;32m--> <a href='file:///home/francesco/anaconda3/envs/dl/lib/python3.9/site-packages/torch/serialization.py?line=593'>594</a>\u001b[0m \u001b[39mwith\u001b[39;00m _open_file_like(f, \u001b[39m'\u001b[39;49m\u001b[39mrb\u001b[39;49m\u001b[39m'\u001b[39;49m) \u001b[39mas\u001b[39;00m opened_file:\n\u001b[1;32m    <a href='file:///home/francesco/anaconda3/envs/dl/lib/python3.9/site-packages/torch/serialization.py?line=594'>595</a>\u001b[0m     \u001b[39mif\u001b[39;00m _is_zipfile(opened_file):\n\u001b[1;32m    <a href='file:///home/francesco/anaconda3/envs/dl/lib/python3.9/site-packages/torch/serialization.py?line=595'>596</a>\u001b[0m         \u001b[39m# The zipfile reader is going to advance the current file position.\u001b[39;00m\n\u001b[1;32m    <a href='file:///home/francesco/anaconda3/envs/dl/lib/python3.9/site-packages/torch/serialization.py?line=596'>597</a>\u001b[0m         \u001b[39m# If we want to actually tail call to torch.jit.load, we need to\u001b[39;00m\n\u001b[1;32m    <a href='file:///home/francesco/anaconda3/envs/dl/lib/python3.9/site-packages/torch/serialization.py?line=597'>598</a>\u001b[0m         \u001b[39m# reset back to the original position.\u001b[39;00m\n\u001b[1;32m    <a href='file:///home/francesco/anaconda3/envs/dl/lib/python3.9/site-packages/torch/serialization.py?line=598'>599</a>\u001b[0m         orig_position \u001b[39m=\u001b[39m opened_file\u001b[39m.\u001b[39mtell()\n",
      "File \u001b[0;32m~/anaconda3/envs/dl/lib/python3.9/site-packages/torch/serialization.py:230\u001b[0m, in \u001b[0;36m_open_file_like\u001b[0;34m(name_or_buffer, mode)\u001b[0m\n\u001b[1;32m    <a href='file:///home/francesco/anaconda3/envs/dl/lib/python3.9/site-packages/torch/serialization.py?line=227'>228</a>\u001b[0m \u001b[39mdef\u001b[39;00m \u001b[39m_open_file_like\u001b[39m(name_or_buffer, mode):\n\u001b[1;32m    <a href='file:///home/francesco/anaconda3/envs/dl/lib/python3.9/site-packages/torch/serialization.py?line=228'>229</a>\u001b[0m     \u001b[39mif\u001b[39;00m _is_path(name_or_buffer):\n\u001b[0;32m--> <a href='file:///home/francesco/anaconda3/envs/dl/lib/python3.9/site-packages/torch/serialization.py?line=229'>230</a>\u001b[0m         \u001b[39mreturn\u001b[39;00m _open_file(name_or_buffer, mode)\n\u001b[1;32m    <a href='file:///home/francesco/anaconda3/envs/dl/lib/python3.9/site-packages/torch/serialization.py?line=230'>231</a>\u001b[0m     \u001b[39melse\u001b[39;00m:\n\u001b[1;32m    <a href='file:///home/francesco/anaconda3/envs/dl/lib/python3.9/site-packages/torch/serialization.py?line=231'>232</a>\u001b[0m         \u001b[39mif\u001b[39;00m \u001b[39m'\u001b[39m\u001b[39mw\u001b[39m\u001b[39m'\u001b[39m \u001b[39min\u001b[39;00m mode:\n",
      "File \u001b[0;32m~/anaconda3/envs/dl/lib/python3.9/site-packages/torch/serialization.py:211\u001b[0m, in \u001b[0;36m_open_file.__init__\u001b[0;34m(self, name, mode)\u001b[0m\n\u001b[1;32m    <a href='file:///home/francesco/anaconda3/envs/dl/lib/python3.9/site-packages/torch/serialization.py?line=209'>210</a>\u001b[0m \u001b[39mdef\u001b[39;00m \u001b[39m__init__\u001b[39m(\u001b[39mself\u001b[39m, name, mode):\n\u001b[0;32m--> <a href='file:///home/francesco/anaconda3/envs/dl/lib/python3.9/site-packages/torch/serialization.py?line=210'>211</a>\u001b[0m     \u001b[39msuper\u001b[39m(_open_file, \u001b[39mself\u001b[39m)\u001b[39m.\u001b[39m\u001b[39m__init__\u001b[39m(\u001b[39mopen\u001b[39;49m(name, mode))\n",
      "\u001b[0;31mFileNotFoundError\u001b[0m: [Errno 2] No such file or directory: 'data/img.pt'"
     ]
    }
   ],
   "source": [
    "image = torch.load(\"data/img.pt\")\n",
    "image.shape"
   ]
  },
  {
   "cell_type": "markdown",
   "metadata": {},
   "source": [
    "This flattening may be achieved via the `reshape` method."
   ]
  },
  {
   "cell_type": "code",
   "execution_count": null,
   "metadata": {},
   "outputs": [
    {
     "name": "stdout",
     "output_type": "stream",
     "text": [
      "shape of image_reshaped\n",
      "torch.Size([3, 213840])\n",
      "\n",
      "\n"
     ]
    }
   ],
   "source": [
    "image_reshaped = image.reshape(3, 243*880)\n",
    "pretty_print(image_reshaped.shape, \"shape of image_reshaped\")"
   ]
  },
  {
   "cell_type": "markdown",
   "metadata": {},
   "source": [
    "We can alternatively use the `view` method..."
   ]
  },
  {
   "cell_type": "code",
   "execution_count": 18,
   "metadata": {},
   "outputs": [
    {
     "ename": "NameError",
     "evalue": "name 'image' is not defined",
     "output_type": "error",
     "traceback": [
      "\u001b[0;31m---------------------------------------------------------------------------\u001b[0m",
      "\u001b[0;31mNameError\u001b[0m                                 Traceback (most recent call last)",
      "\u001b[1;32m/home/francesco/Desktop/dssc/deeplearning/dl_course/labs/01-intro-to-pt.ipynb Cell 62'\u001b[0m in \u001b[0;36m<cell line: 1>\u001b[0;34m()\u001b[0m\n\u001b[0;32m----> <a href='vscode-notebook-cell:/home/francesco/Desktop/dssc/deeplearning/dl_course/labs/01-intro-to-pt.ipynb#ch0000061?line=0'>1</a>\u001b[0m image_view \u001b[39m=\u001b[39m image\u001b[39m.\u001b[39mview(\u001b[39m3\u001b[39m, \u001b[39m243\u001b[39m\u001b[39m*\u001b[39m\u001b[39m880\u001b[39m)\n\u001b[1;32m      <a href='vscode-notebook-cell:/home/francesco/Desktop/dssc/deeplearning/dl_course/labs/01-intro-to-pt.ipynb#ch0000061?line=1'>2</a>\u001b[0m pretty_print(image_view\u001b[39m.\u001b[39mshape, \u001b[39m\"\u001b[39m\u001b[39mshape of image_view\u001b[39m\u001b[39m\"\u001b[39m)\n",
      "\u001b[0;31mNameError\u001b[0m: name 'image' is not defined"
     ]
    }
   ],
   "source": [
    "image_view = image.view(3, 243*880)\n",
    "pretty_print(image_view.shape, \"shape of image_view\")"
   ]
  },
  {
   "cell_type": "markdown",
   "metadata": {},
   "source": [
    "**Q**: what is the difference between `reshape` and `view`?\n",
    "\n",
    "* `view` does not copy the object. It's just a _view_ of the original tensor.\n",
    "* `reshape` sometimes copy the object, sometimes it does not and resorts to `view` \n",
    "\n",
    "The cases when the two methods behave differently are marginal and we don't have time to discuss that here (you can see for instance [this stackoverflow](https://stackoverflow.com/questions/49643225/whats-the-difference-between-reshape-and-view-in-pytorch)).\n",
    "\n",
    "As a general rule, use `reshape` instead of `view` because the latter may throw unexpected errors, while with the former you're always sure your code will run seamlessly.\n"
   ]
  },
  {
   "cell_type": "markdown",
   "metadata": {},
   "source": [
    "Some libraries encode images as `h x w x 3` tensors instead of `3 x h x w`.\n",
    "\n",
    "To convert between these two format, one may be tempted to `reshape` or `view` the tensor: in the end, they share the number of elements.\n",
    "\n"
   ]
  },
  {
   "cell_type": "code",
   "execution_count": 19,
   "metadata": {},
   "outputs": [
    {
     "ename": "NameError",
     "evalue": "name 'image' is not defined",
     "output_type": "error",
     "traceback": [
      "\u001b[0;31m---------------------------------------------------------------------------\u001b[0m",
      "\u001b[0;31mNameError\u001b[0m                                 Traceback (most recent call last)",
      "\u001b[1;32m/home/francesco/Desktop/dssc/deeplearning/dl_course/labs/01-intro-to-pt.ipynb Cell 65'\u001b[0m in \u001b[0;36m<cell line: 3>\u001b[0;34m()\u001b[0m\n\u001b[1;32m      <a href='vscode-notebook-cell:/home/francesco/Desktop/dssc/deeplearning/dl_course/labs/01-intro-to-pt.ipynb#ch0000064?line=0'>1</a>\u001b[0m \u001b[39mfrom\u001b[39;00m \u001b[39mmatplotlib\u001b[39;00m \u001b[39mimport\u001b[39;00m pyplot \u001b[39mas\u001b[39;00m plt\n\u001b[0;32m----> <a href='vscode-notebook-cell:/home/francesco/Desktop/dssc/deeplearning/dl_course/labs/01-intro-to-pt.ipynb#ch0000064?line=2'>3</a>\u001b[0m image2 \u001b[39m=\u001b[39m image\u001b[39m.\u001b[39mreshape(\u001b[39m243\u001b[39m, \u001b[39m880\u001b[39m, \u001b[39m3\u001b[39m)\n\u001b[1;32m      <a href='vscode-notebook-cell:/home/francesco/Desktop/dssc/deeplearning/dl_course/labs/01-intro-to-pt.ipynb#ch0000064?line=4'>5</a>\u001b[0m plt\u001b[39m.\u001b[39mimshow(image2)\n\u001b[1;32m      <a href='vscode-notebook-cell:/home/francesco/Desktop/dssc/deeplearning/dl_course/labs/01-intro-to-pt.ipynb#ch0000064?line=5'>6</a>\u001b[0m plt\u001b[39m.\u001b[39mshow()\n",
      "\u001b[0;31mNameError\u001b[0m: name 'image' is not defined"
     ]
    }
   ],
   "source": [
    "from matplotlib import pyplot as plt\n",
    "\n",
    "image2 = image.reshape(243, 880, 3)\n",
    "\n",
    "plt.imshow(image2)\n",
    "plt.show()"
   ]
  },
  {
   "cell_type": "markdown",
   "metadata": {},
   "source": [
    "That does not seem to work though: reshape does not change the order of the elements within the memory.\n",
    "\n",
    "In order to do so, we need to use `permute`, which changes shape **and** the order of the elements.\n",
    "We need to pass the new order of the dimensions to it."
   ]
  },
  {
   "cell_type": "code",
   "execution_count": 20,
   "metadata": {},
   "outputs": [
    {
     "ename": "NameError",
     "evalue": "name 'image' is not defined",
     "output_type": "error",
     "traceback": [
      "\u001b[0;31m---------------------------------------------------------------------------\u001b[0m",
      "\u001b[0;31mNameError\u001b[0m                                 Traceback (most recent call last)",
      "\u001b[1;32m/home/francesco/Desktop/dssc/deeplearning/dl_course/labs/01-intro-to-pt.ipynb Cell 67'\u001b[0m in \u001b[0;36m<cell line: 1>\u001b[0;34m()\u001b[0m\n\u001b[0;32m----> <a href='vscode-notebook-cell:/home/francesco/Desktop/dssc/deeplearning/dl_course/labs/01-intro-to-pt.ipynb#ch0000066?line=0'>1</a>\u001b[0m image3 \u001b[39m=\u001b[39m image\u001b[39m.\u001b[39mpermute(\u001b[39m1\u001b[39m,\u001b[39m2\u001b[39m,\u001b[39m0\u001b[39m) \u001b[39m# 1,2,0 --> old dim1 goes first, old dim2 goes second, dim0 goes last\u001b[39;00m\n\u001b[1;32m      <a href='vscode-notebook-cell:/home/francesco/Desktop/dssc/deeplearning/dl_course/labs/01-intro-to-pt.ipynb#ch0000066?line=1'>2</a>\u001b[0m \u001b[39m# can also do image.permute(-2,-1,0) -- works with negative indices as well\u001b[39;00m\n\u001b[1;32m      <a href='vscode-notebook-cell:/home/francesco/Desktop/dssc/deeplearning/dl_course/labs/01-intro-to-pt.ipynb#ch0000066?line=2'>3</a>\u001b[0m plt\u001b[39m.\u001b[39mimshow(image3)\n",
      "\u001b[0;31mNameError\u001b[0m: name 'image' is not defined"
     ]
    }
   ],
   "source": [
    "image3 = image.permute(1,2,0) # 1,2,0 --> old dim1 goes first, old dim2 goes second, dim0 goes last\n",
    "# can also do image.permute(-2,-1,0) -- works with negative indices as well\n",
    "plt.imshow(image3)\n",
    "plt.show()"
   ]
  },
  {
   "cell_type": "markdown",
   "metadata": {},
   "source": [
    "#### More linear algebra"
   ]
  },
  {
   "cell_type": "code",
   "execution_count": 21,
   "metadata": {},
   "outputs": [
    {
     "ename": "NameError",
     "evalue": "name 'z3' is not defined",
     "output_type": "error",
     "traceback": [
      "\u001b[0;31m---------------------------------------------------------------------------\u001b[0m",
      "\u001b[0;31mNameError\u001b[0m                                 Traceback (most recent call last)",
      "\u001b[1;32m/home/francesco/Desktop/dssc/deeplearning/dl_course/labs/01-intro-to-pt.ipynb Cell 69'\u001b[0m in \u001b[0;36m<cell line: 1>\u001b[0;34m()\u001b[0m\n\u001b[0;32m----> <a href='vscode-notebook-cell:/home/francesco/Desktop/dssc/deeplearning/dl_course/labs/01-intro-to-pt.ipynb#ch0000068?line=0'>1</a>\u001b[0m z3_norm \u001b[39m=\u001b[39m z3\u001b[39m.\u001b[39mnorm()\n\u001b[1;32m      <a href='vscode-notebook-cell:/home/francesco/Desktop/dssc/deeplearning/dl_course/labs/01-intro-to-pt.ipynb#ch0000068?line=1'>2</a>\u001b[0m pretty_print(z3_norm, \u001b[39m\"\u001b[39m\u001b[39mTensor norm\u001b[39m\u001b[39m\"\u001b[39m)\n\u001b[1;32m      <a href='vscode-notebook-cell:/home/francesco/Desktop/dssc/deeplearning/dl_course/labs/01-intro-to-pt.ipynb#ch0000068?line=2'>3</a>\u001b[0m pretty_print(np\u001b[39m.\u001b[39mlinalg\u001b[39m.\u001b[39mnorm(z3), \u001b[39m\"\u001b[39m\u001b[39mndarray norm\u001b[39m\u001b[39m\"\u001b[39m)\n",
      "\u001b[0;31mNameError\u001b[0m: name 'z3' is not defined"
     ]
    }
   ],
   "source": [
    "z3_norm = z3.norm()\n",
    "pretty_print(z3_norm, \"Tensor norm\")\n",
    "pretty_print(np.linalg.norm(z3), \"ndarray norm\") # notice how torch is more OO"
   ]
  },
  {
   "cell_type": "markdown",
   "metadata": {},
   "source": [
    "Notice how methods reducing `Tensor`s to scalars still return singleton `Tensor`s. (be wary of this feature when scripting something in PT)\n",
    "\n",
    "To \"disentangle\" the scalar from a `Tensor` use the `.item()` method."
   ]
  },
  {
   "cell_type": "code",
   "execution_count": 22,
   "metadata": {},
   "outputs": [
    {
     "ename": "NameError",
     "evalue": "name 'z3_norm' is not defined",
     "output_type": "error",
     "traceback": [
      "\u001b[0;31m---------------------------------------------------------------------------\u001b[0m",
      "\u001b[0;31mNameError\u001b[0m                                 Traceback (most recent call last)",
      "\u001b[1;32m/home/francesco/Desktop/dssc/deeplearning/dl_course/labs/01-intro-to-pt.ipynb Cell 71'\u001b[0m in \u001b[0;36m<cell line: 1>\u001b[0;34m()\u001b[0m\n\u001b[0;32m----> <a href='vscode-notebook-cell:/home/francesco/Desktop/dssc/deeplearning/dl_course/labs/01-intro-to-pt.ipynb#ch0000070?line=0'>1</a>\u001b[0m z3_norm\u001b[39m.\u001b[39mitem()\n",
      "\u001b[0;31mNameError\u001b[0m: name 'z3_norm' is not defined"
     ]
    }
   ],
   "source": [
    "z3_norm.item()"
   ]
  },
  {
   "cell_type": "markdown",
   "metadata": {},
   "source": [
    "Note that, as for NumPy, PT supports `Tensor`s operator on a subset of its dimensions.\n",
    "\n",
    "For example, given a `3x4x4 Tensor`, we might want to calculate the norm of each of the three `4x4` matrices composing it. We must hence specify to the `norm` method the dimensions on which we want it to operate the reduction:"
   ]
  },
  {
   "cell_type": "code",
   "execution_count": 23,
   "metadata": {},
   "outputs": [
    {
     "name": "stdout",
     "output_type": "stream",
     "text": [
      "z4\n",
      "tensor([[[0.4894, 0.0325, 0.1853, 0.3709, 0.3124],\n",
      "         [0.8639, 0.4254, 0.0319, 0.7132, 0.4886],\n",
      "         [0.0025, 0.1250, 0.6168, 0.1127, 0.3918],\n",
      "         [0.0360, 0.5314, 0.2885, 0.2615, 0.1495]],\n",
      "\n",
      "        [[0.6051, 0.1959, 0.0275, 0.4453, 0.2003],\n",
      "         [0.1477, 0.3756, 0.4171, 0.0315, 0.4269],\n",
      "         [0.3869, 0.7154, 0.3278, 0.2791, 0.2045],\n",
      "         [0.0120, 0.5254, 0.7148, 0.6957, 0.9907]],\n",
      "\n",
      "        [[0.7426, 0.3493, 0.7740, 0.2887, 0.4095],\n",
      "         [0.9613, 0.1946, 0.9515, 0.9634, 0.8514],\n",
      "         [0.2664, 0.2776, 0.0176, 0.9121, 0.6002],\n",
      "         [0.0770, 0.5164, 0.3122, 0.1863, 0.3588]]])\n",
      "\n",
      "\n",
      "Norm of the three matrices composing z4 -- z4.norm(dim=(1,2))\n",
      "tensor([1.7904, 2.0748, 2.6302])\n",
      "\n",
      "\n"
     ]
    }
   ],
   "source": [
    "z4 = torch.rand((3,4,5))\n",
    "pretty_print(z4, \"z4\")\n",
    "pretty_print(z4.norm(dim=(1,2)), \"Norm of the three matrices composing z4 -- z4.norm(dim=(1,2))\")"
   ]
  },
  {
   "cell_type": "markdown",
   "metadata": {},
   "source": [
    "As expected, the result is a `1x3 Tensor`, showing the norm of each of the matrices.\n",
    "\n",
    "We can notice this behaviour in other `Tensor` operator applying a reduction, for example `.sum()` and `.prod()` (sum/product of the elements within the tensor).\n",
    "\n",
    "By specifying `z4.prod(dim=1)`, we **fix** the second dimension and loop through the other dimensions, applying the product for all of the resulting tensor slices. Let's see a code for clarity."
   ]
  },
  {
   "cell_type": "code",
   "execution_count": 24,
   "metadata": {},
   "outputs": [
    {
     "name": "stdout",
     "output_type": "stream",
     "text": [
      "The result of our fancy loop ...\n",
      "tensor([[3.8491e-05, 9.1767e-04, 1.0510e-03, 7.7968e-03, 8.9429e-03],\n",
      "        [4.1605e-04, 2.7659e-02, 2.6850e-03, 2.7217e-03, 1.7324e-02],\n",
      "        [1.4654e-02, 9.7480e-03, 4.0550e-03, 4.7258e-02, 7.5086e-02]])\n",
      "\n",
      "\n",
      "... is the same as z4.prod(dim=1)\n",
      "tensor([[3.8491e-05, 9.1767e-04, 1.0510e-03, 7.7968e-03, 8.9429e-03],\n",
      "        [4.1605e-04, 2.7659e-02, 2.6850e-03, 2.7217e-03, 1.7324e-02],\n",
      "        [1.4654e-02, 9.7480e-03, 4.0550e-03, 4.7258e-02, 7.5086e-02]])\n",
      "\n",
      "\n"
     ]
    }
   ],
   "source": [
    "# 1. let us create an empty vector with the shape of the dimension we did NOT specify in `prod` above:\n",
    "product_fix_dim = torch.empty([z4.shape[0], z4.shape[2]])\n",
    "\n",
    "# 2. we loop through these dimensions to get the result of `z4.prod(dim=1)`\n",
    "for i in range(product_fix_dim.shape[0]):\n",
    "    for j in range(product_fix_dim.shape[1]):\n",
    "        # the result for the (i,j) position is the product of the corresponding sub-tensor z4[i, :, j]\n",
    "        # (we consider the whole of the 2nd dim, loop through the 1st and 3rd)\n",
    "        product_fix_dim[i, j] = z4[i, :, j].prod()\n",
    "\n",
    "pretty_print(product_fix_dim, \"The result of our fancy loop ...\")\n",
    "pretty_print(z4.prod(dim=1), \"... is the same as z4.prod(dim=1)\")"
   ]
  },
  {
   "cell_type": "markdown",
   "metadata": {},
   "source": [
    "Analogously, we may apply the same reasoning to the `sum()` method:\n",
    "\n",
    "`z4.sum(dim=0)`:\n",
    "* we fix the first dim\n",
    "* and loop through the other dims"
   ]
  },
  {
   "cell_type": "code",
   "execution_count": 25,
   "metadata": {},
   "outputs": [
    {
     "name": "stdout",
     "output_type": "stream",
     "text": [
      "z4.sum(dim=0) -- Element-wise sum of the three matrices composing the tensor -- is a 4x5 matrix\n",
      "tensor([[1.8372, 0.5777, 0.9868, 1.1049, 0.9222],\n",
      "        [1.9729, 0.9957, 1.4004, 1.7081, 1.7669],\n",
      "        [0.6558, 1.1181, 0.9622, 1.3039, 1.1965],\n",
      "        [0.1251, 1.5732, 1.3155, 1.1434, 1.4990]])\n",
      "\n",
      "\n"
     ]
    }
   ],
   "source": [
    "pretty_print(z4.sum(dim=0), \"z4.sum(dim=0) -- Element-wise sum of the three matrices composing the tensor -- is a 4x5 matrix\")"
   ]
  },
  {
   "cell_type": "markdown",
   "metadata": {},
   "source": [
    "this is analogous to"
   ]
  },
  {
   "cell_type": "code",
   "execution_count": 26,
   "metadata": {},
   "outputs": [
    {
     "data": {
      "text/plain": [
       "tensor([[1.8372, 0.5777, 0.9868, 1.1049, 0.9222],\n",
       "        [1.9729, 0.9957, 1.4004, 1.7081, 1.7669],\n",
       "        [0.6558, 1.1181, 0.9622, 1.3039, 1.1965],\n",
       "        [0.1251, 1.5732, 1.3155, 1.1434, 1.4990]])"
      ]
     },
     "execution_count": 26,
     "metadata": {},
     "output_type": "execute_result"
    }
   ],
   "source": [
    "z4[0] + z4[1] + z4[2]"
   ]
  },
  {
   "cell_type": "markdown",
   "metadata": {},
   "source": [
    "#### Seamless conversion from NumPy to PT"
   ]
  },
  {
   "cell_type": "code",
   "execution_count": 27,
   "metadata": {},
   "outputs": [
    {
     "name": "stdout",
     "output_type": "stream",
     "text": [
      "y converted to torch.Tensor\n",
      "tensor([[0.8589, 0.2457, 0.1844, 0.2150, 0.9266],\n",
      "        [0.7847, 0.7004, 0.7023, 0.8426, 0.2721],\n",
      "        [0.7488, 0.2254, 0.4422, 0.1403, 0.6795]], dtype=torch.float64)\n",
      "\n",
      "\n",
      "x converted to numpy.ndarray\n",
      "[[0.5581243  0.8674133  0.52763915 0.7401994 ]\n",
      " [0.19616401 0.3515218  0.6959443  0.7635181 ]\n",
      " [0.2300492  0.9805852  0.5412167  0.97590816]\n",
      " [0.089248   0.40482777 0.96061003 0.05313951]\n",
      " [0.68500036 0.686145   0.73145944 0.98537284]\n",
      " [0.9623947  0.8212372  0.8838779  0.9487144 ]]\n",
      "\n",
      "\n",
      "Example of implicit conversion Tensor → ndarray (np.linalg.norm(x) where x is torch.tensor)\n",
      "3.4935265\n",
      "\n",
      "\n"
     ]
    },
    {
     "ename": "AttributeError",
     "evalue": "'numpy.ndarray' object has no attribute 'dim'",
     "output_type": "error",
     "traceback": [
      "\u001b[0;31m---------------------------------------------------------------------------\u001b[0m",
      "\u001b[0;31mAttributeError\u001b[0m                            Traceback (most recent call last)",
      "\u001b[1;32m/home/francesco/Desktop/dssc/deeplearning/dl_course/labs/01-intro-to-pt.ipynb Cell 81'\u001b[0m in \u001b[0;36m<cell line: 12>\u001b[0;34m()\u001b[0m\n\u001b[1;32m      <a href='vscode-notebook-cell:/home/francesco/Desktop/dssc/deeplearning/dl_course/labs/01-intro-to-pt.ipynb#ch0000080?line=8'>9</a>\u001b[0m \u001b[39m# Note that NumPy implicitly converts Tensor to ndarray whenever it can; the same doesn't happen for PT\u001b[39;00m\n\u001b[1;32m     <a href='vscode-notebook-cell:/home/francesco/Desktop/dssc/deeplearning/dl_course/labs/01-intro-to-pt.ipynb#ch0000080?line=9'>10</a>\u001b[0m pretty_print(np\u001b[39m.\u001b[39mlinalg\u001b[39m.\u001b[39mnorm(x), \u001b[39m\"\u001b[39m\u001b[39mExample of implicit conversion Tensor → ndarray (np.linalg.norm(x) where x is torch.tensor)\u001b[39m\u001b[39m\"\u001b[39m)\n\u001b[0;32m---> <a href='vscode-notebook-cell:/home/francesco/Desktop/dssc/deeplearning/dl_course/labs/01-intro-to-pt.ipynb#ch0000080?line=11'>12</a>\u001b[0m torch\u001b[39m.\u001b[39;49mnorm(x_numpy)\n",
      "File \u001b[0;32m~/anaconda3/envs/dl/lib/python3.9/site-packages/torch/functional.py:1412\u001b[0m, in \u001b[0;36mnorm\u001b[0;34m(input, p, dim, keepdim, out, dtype)\u001b[0m\n\u001b[1;32m   <a href='file:///home/francesco/anaconda3/envs/dl/lib/python3.9/site-packages/torch/functional.py?line=1407'>1408</a>\u001b[0m \u001b[39mif\u001b[39;00m has_torch_function_unary(\u001b[39minput\u001b[39m):\n\u001b[1;32m   <a href='file:///home/francesco/anaconda3/envs/dl/lib/python3.9/site-packages/torch/functional.py?line=1408'>1409</a>\u001b[0m     \u001b[39mreturn\u001b[39;00m handle_torch_function(\n\u001b[1;32m   <a href='file:///home/francesco/anaconda3/envs/dl/lib/python3.9/site-packages/torch/functional.py?line=1409'>1410</a>\u001b[0m         norm, (\u001b[39minput\u001b[39m,), \u001b[39minput\u001b[39m, p\u001b[39m=\u001b[39mp, dim\u001b[39m=\u001b[39mdim, keepdim\u001b[39m=\u001b[39mkeepdim, out\u001b[39m=\u001b[39mout, dtype\u001b[39m=\u001b[39mdtype)\n\u001b[0;32m-> <a href='file:///home/francesco/anaconda3/envs/dl/lib/python3.9/site-packages/torch/functional.py?line=1411'>1412</a>\u001b[0m ndim \u001b[39m=\u001b[39m \u001b[39minput\u001b[39;49m\u001b[39m.\u001b[39;49mdim()\n\u001b[1;32m   <a href='file:///home/francesco/anaconda3/envs/dl/lib/python3.9/site-packages/torch/functional.py?line=1413'>1414</a>\u001b[0m \u001b[39m# catch default case\u001b[39;00m\n\u001b[1;32m   <a href='file:///home/francesco/anaconda3/envs/dl/lib/python3.9/site-packages/torch/functional.py?line=1414'>1415</a>\u001b[0m \u001b[39mif\u001b[39;00m dim \u001b[39mis\u001b[39;00m \u001b[39mNone\u001b[39;00m \u001b[39mand\u001b[39;00m out \u001b[39mis\u001b[39;00m \u001b[39mNone\u001b[39;00m \u001b[39mand\u001b[39;00m dtype \u001b[39mis\u001b[39;00m \u001b[39mNone\u001b[39;00m \u001b[39mand\u001b[39;00m p \u001b[39mis\u001b[39;00m \u001b[39mnot\u001b[39;00m \u001b[39mNone\u001b[39;00m:\n",
      "\u001b[0;31mAttributeError\u001b[0m: 'numpy.ndarray' object has no attribute 'dim'"
     ]
    }
   ],
   "source": [
    "y_numpy = np.random.rand(3,5)\n",
    "y_torch = torch.from_numpy(y_numpy)\n",
    "pretty_print(y_torch, \"y converted to torch.Tensor\")\n",
    "\n",
    "x = torch.rand(6,4)\n",
    "x_numpy = x.numpy()\n",
    "pretty_print(x_numpy, \"x converted to numpy.ndarray\")\n",
    "\n",
    "# Note that NumPy implicitly converts Tensor to ndarray whenever it can; the same doesn't happen for PT\n",
    "pretty_print(np.linalg.norm(x), \"Example of implicit conversion Tensor → ndarray (np.linalg.norm(x) where x is torch.tensor)\")\n",
    "\n",
    "torch.norm(x_numpy) # this does not work"
   ]
  },
  {
   "cell_type": "markdown",
   "metadata": {},
   "source": [
    "#### Stochastic functionalities"
   ]
  },
  {
   "cell_type": "markdown",
   "metadata": {},
   "source": [
    "We can render the (pseudo)random number generator deterministic by calling `torch.manual_seed(integer)`.\n",
    "\n",
    "This works for both CPU and CUDA RNG calls."
   ]
  },
  {
   "cell_type": "code",
   "execution_count": 28,
   "metadata": {},
   "outputs": [
    {
     "name": "stdout",
     "output_type": "stream",
     "text": [
      "...from now on our random tensor should be the same...\n"
     ]
    }
   ],
   "source": [
    "torch.manual_seed(123456)\n",
    "print(\"...from now on our random tensor should be the same...\")"
   ]
  },
  {
   "cell_type": "code",
   "execution_count": 29,
   "metadata": {},
   "outputs": [
    {
     "name": "stdout",
     "output_type": "stream",
     "text": [
      "(randperm) Random permutation of 0:10\n",
      "tensor([5, 2, 4, 9, 1, 7, 3, 6, 0, 8])\n",
      "\n",
      "\n"
     ]
    },
    {
     "ename": "NameError",
     "evalue": "name 'z1' is not defined",
     "output_type": "error",
     "traceback": [
      "\u001b[0;31m---------------------------------------------------------------------------\u001b[0m",
      "\u001b[0;31mNameError\u001b[0m                                 Traceback (most recent call last)",
      "\u001b[1;32m/home/francesco/Desktop/dssc/deeplearning/dl_course/labs/01-intro-to-pt.ipynb Cell 85'\u001b[0m in \u001b[0;36m<cell line: 3>\u001b[0;34m()\u001b[0m\n\u001b[1;32m      <a href='vscode-notebook-cell:/home/francesco/Desktop/dssc/deeplearning/dl_course/labs/01-intro-to-pt.ipynb#ch0000084?line=0'>1</a>\u001b[0m pretty_print(torch\u001b[39m.\u001b[39mrandperm(\u001b[39m10\u001b[39m), \u001b[39m\"\u001b[39m\u001b[39m(randperm) Random permutation of 0:10\u001b[39m\u001b[39m\"\u001b[39m)\n\u001b[0;32m----> <a href='vscode-notebook-cell:/home/francesco/Desktop/dssc/deeplearning/dl_course/labs/01-intro-to-pt.ipynb#ch0000084?line=2'>3</a>\u001b[0m pretty_print(torch\u001b[39m.\u001b[39mrand_like(z1), \u001b[39m\"\u001b[39m\u001b[39m(rand_like) Create random vector with the same shape of z_1\u001b[39m\u001b[39m\"\u001b[39m)\n\u001b[1;32m      <a href='vscode-notebook-cell:/home/francesco/Desktop/dssc/deeplearning/dl_course/labs/01-intro-to-pt.ipynb#ch0000084?line=4'>5</a>\u001b[0m pretty_print(torch\u001b[39m.\u001b[39mrandint(\u001b[39m10\u001b[39m, (\u001b[39m3\u001b[39m, \u001b[39m3\u001b[39m)), \u001b[39m\"\u001b[39m\u001b[39m(randint) Like rand, but with integers up to 10\u001b[39m\u001b[39m\"\u001b[39m)\n\u001b[1;32m      <a href='vscode-notebook-cell:/home/francesco/Desktop/dssc/deeplearning/dl_course/labs/01-intro-to-pt.ipynb#ch0000084?line=6'>7</a>\u001b[0m pretty_print(torch\u001b[39m.\u001b[39mnormal(\u001b[39m0\u001b[39m, \u001b[39m1\u001b[39m, (\u001b[39m3\u001b[39m, \u001b[39m3\u001b[39m)), \u001b[39m\"\u001b[39m\u001b[39m(normal) Sampling a 3x3 iid scalars from N(0,1)\u001b[39m\u001b[39m\"\u001b[39m)\n",
      "\u001b[0;31mNameError\u001b[0m: name 'z1' is not defined"
     ]
    }
   ],
   "source": [
    "pretty_print(torch.randperm(10), \"(randperm) Random permutation of 0:10\")\n",
    "\n",
    "pretty_print(torch.rand_like(z1), \"(rand_like) Create random vector with the same shape of z_1\")\n",
    "\n",
    "pretty_print(torch.randint(10, (3, 3)), \"(randint) Like rand, but with integers up to 10\")\n",
    "\n",
    "pretty_print(torch.normal(0, 1, (3, 3)), \"(normal) Sampling a 3x3 iid scalars from N(0,1)\")\n",
    "\n",
    "pretty_print(torch.normal(torch.Tensor([[1,2,3],[4,5,6],[0,0,0]]), torch.Tensor([[1,0.5,0.9],[0.5,1,0.1],[3,4,1]])), \"Sampling from 9 normals with different means and std into a (3x3) Tensor\")"
   ]
  },
  {
   "cell_type": "markdown",
   "metadata": {},
   "source": [
    "### Using GPUs\n",
    "\n",
    "All `Torch.Tensor` methods support GPU computation via built-in CUDA wrappers.\n",
    "\n",
    "Just transfer the involved `Tensor`s to CUDA and let the magic happen :)"
   ]
  },
  {
   "cell_type": "code",
   "execution_count": 30,
   "metadata": {},
   "outputs": [],
   "source": [
    "# check if cuda is available on this machine\n",
    "torch.cuda.is_available()\n",
    "\n",
    "has_cuda_gpu = torch.cuda.is_available()"
   ]
  },
  {
   "cell_type": "code",
   "execution_count": 31,
   "metadata": {},
   "outputs": [
    {
     "name": "stdout",
     "output_type": "stream",
     "text": [
      "False\n"
     ]
    }
   ],
   "source": [
    "print(has_cuda_gpu)"
   ]
  },
  {
   "cell_type": "code",
   "execution_count": 32,
   "metadata": {},
   "outputs": [
    {
     "name": "stdout",
     "output_type": "stream",
     "text": [
      "Sorry, this part of the notebook is inaccessible since it seems you don't have a CUDA-capable GPU on your device :/\n"
     ]
    }
   ],
   "source": [
    "if has_cuda_gpu:\n",
    "    dim = 10000\n",
    "    large_cpu_matrix = torch.rand((dim, dim)) \n",
    "    large_gpu_matrix = large_cpu_matrix.to(\"cuda\") # Can also specify \"cuda:gpu_id\" if multiple GPUs\n",
    "    # alternatively, you may also call large_cpu_matrix.cuda() or large_cpu_matrix.cuda(0)\n",
    "else:\n",
    "    print(\"Sorry, this part of the notebook is inaccessible since it seems you don't have a CUDA-capable GPU on your device :/\")"
   ]
  },
  {
   "cell_type": "code",
   "execution_count": 33,
   "metadata": {},
   "outputs": [
    {
     "ename": "NameError",
     "evalue": "name 'large_cpu_matrix' is not defined",
     "output_type": "error",
     "traceback": [
      "\u001b[0;31m---------------------------------------------------------------------------\u001b[0m",
      "\u001b[0;31mNameError\u001b[0m                                 Traceback (most recent call last)",
      "\u001b[1;32m/home/francesco/Desktop/dssc/deeplearning/dl_course/labs/01-intro-to-pt.ipynb Cell 90'\u001b[0m in \u001b[0;36m<cell line: 1>\u001b[0;34m()\u001b[0m\n\u001b[0;32m----> <a href='vscode-notebook-cell:/home/francesco/Desktop/dssc/deeplearning/dl_course/labs/01-intro-to-pt.ipynb#ch0000089?line=0'>1</a>\u001b[0m pretty_print(large_cpu_matrix\u001b[39m.\u001b[39mdevice, \u001b[39m\"\u001b[39m\u001b[39mDevice of large_cpu_matrix\u001b[39m\u001b[39m\"\u001b[39m)\n\u001b[1;32m      <a href='vscode-notebook-cell:/home/francesco/Desktop/dssc/deeplearning/dl_course/labs/01-intro-to-pt.ipynb#ch0000089?line=1'>2</a>\u001b[0m pretty_print(large_gpu_matrix\u001b[39m.\u001b[39mdevice, \u001b[39m\"\u001b[39m\u001b[39mDevice of large_gpu_matrix\u001b[39m\u001b[39m\"\u001b[39m)\n\u001b[1;32m      <a href='vscode-notebook-cell:/home/francesco/Desktop/dssc/deeplearning/dl_course/labs/01-intro-to-pt.ipynb#ch0000089?line=2'>3</a>\u001b[0m pretty_print(large_gpu_matrix, \u001b[39m\"\u001b[39m\u001b[39mIf a tensor is not on CPU, the device will also be printed if you print the tensor itself\u001b[39m\u001b[39m\"\u001b[39m)\n",
      "\u001b[0;31mNameError\u001b[0m: name 'large_cpu_matrix' is not defined"
     ]
    }
   ],
   "source": [
    "pretty_print(large_cpu_matrix.device, \"Device of large_cpu_matrix\")\n",
    "pretty_print(large_gpu_matrix.device, \"Device of large_gpu_matrix\")\n",
    "pretty_print(large_gpu_matrix, \"If a tensor is not on CPU, the device will also be printed if you print the tensor itself\")"
   ]
  },
  {
   "cell_type": "code",
   "execution_count": 69,
   "metadata": {},
   "outputs": [
    {
     "name": "stdout",
     "output_type": "stream",
     "text": [
      "Norm of large cpu matrix. Time: 3.758484651999879\n",
      "Norm of large gpu matrix. Time: 0.015846973999941838\n"
     ]
    }
   ],
   "source": [
    "if has_cuda_gpu:\n",
    "    import timeit\n",
    "\n",
    "    # NOTE: please fix this number w.r.t. your GPU and CPU\n",
    "    repetitions = 100\n",
    "\n",
    "    print(\"Norm of large cpu matrix. Time:\", timeit.timeit(\"large_cpu_matrix.norm()\", number=repetitions, globals=locals()))\n",
    "    print(\"Norm of large gpu matrix. Time:\", timeit.timeit(\"large_gpu_matrix.norm()\", number=repetitions, globals=locals()))\n",
    "else:\n",
    "    print(\"Sorry, this part of the notebook is inaccessible since it seems you don't have a CUDA-capable GPU on your device :/\")"
   ]
  },
  {
   "cell_type": "code",
   "execution_count": 70,
   "metadata": {},
   "outputs": [
    {
     "name": "stdout",
     "output_type": "stream",
     "text": [
      "Norm of large cpu matrix. Time: 3.7309527239999625\n",
      "Norm of large gpu matrix. Time: 10.428168874999756\n"
     ]
    }
   ],
   "source": [
    "large_cpu_matrix2 = torch.rand((dim, dim))\n",
    "\n",
    "\n",
    "print(\"Norm of large cpu matrix. Time:\", timeit.timeit(\"large_cpu_matrix.norm()\", number=100, globals=locals()))\n",
    "print(\"Norm of large gpu matrix. Time:\", timeit.timeit(\"large_cpu_matrix.cuda().norm()\", number=100, globals=locals()))"
   ]
  },
  {
   "cell_type": "markdown",
   "metadata": {},
   "source": [
    "**Q**: Why that difference between the first and the second cells?\n",
    "\n"
   ]
  },
  {
   "cell_type": "markdown",
   "metadata": {},
   "source": [
    "Captain obvious: Use `tensor.cpu()` or `tensor.to(\"cpu\")` to move a tensor to your CPU"
   ]
  },
  {
   "cell_type": "markdown",
   "metadata": {},
   "source": [
    "### Building easy ML models\n",
    "\n",
    "By using all the pieces we've seen till now, we can build our first ML model using PyTorch: a linear regressor, whose model is\n",
    "\n",
    "$y = XW + b$\n",
    "\n",
    "which can also be simplified as\n",
    "\n",
    "$y = XW$\n",
    "\n",
    "if we incorporate the bias $b$ inside $W$ and add to the $X$ a column of ones to the right.\n",
    "\n",
    "![](imgs/01/fakedata.jpg)\n",
    "\n",
    "We'll first create our data. The $X$ 's are the 0:9 range plus some iid white noise, while the $y$ is just the 0:9 range"
   ]
  },
  {
   "cell_type": "code",
   "execution_count": 2,
   "metadata": {},
   "outputs": [
    {
     "name": "stdout",
     "output_type": "stream",
     "text": [
      "X (covariates)\n",
      "tensor([[0.0742, 0.3453, 0.3252, 1.0000],\n",
      "        [1.3821, 0.8403, 1.0003, 1.0000],\n",
      "        [2.4326, 1.1355, 2.1646, 1.0000],\n",
      "        [3.6870, 3.1215, 3.0320, 1.0000],\n",
      "        [4.4748, 4.2018, 4.0512, 1.0000],\n",
      "        [5.3662, 4.5358, 4.8595, 1.0000],\n",
      "        [5.5035, 6.4922, 6.0556, 1.0000],\n",
      "        [7.0286, 7.0342, 6.7601, 1.0000],\n",
      "        [8.1340, 7.7071, 7.9352, 1.0000],\n",
      "        [9.1925, 9.4462, 8.9605, 1.0000]])\n",
      "\n",
      "\n"
     ]
    }
   ],
   "source": [
    "x1 = torch.arange(0, 10).float().unsqueeze(-1)\n",
    "x2 = torch.arange(0, 10).float().unsqueeze(-1)\n",
    "x3 = torch.arange(0, 10).float().unsqueeze(-1)\n",
    "x0 = torch.ones([10]).float().unsqueeze(-1)\n",
    "# first, concatenate x1, x2, and x3 to form a single matrix X\n",
    "X = torch.cat((x1, x2, x3), dim=1)\n",
    "# add small noise to the Xs, so that we don't have a trivial \"interpolation\" problem\n",
    "eps = torch.normal(0, .3, (10, 3))\n",
    "X += eps\n",
    "# concatenate also x0 so we can express the model as y=XW\n",
    "X = torch.cat((X, x0), dim=1)\n",
    "\n",
    "pretty_print(X, \"X (covariates)\")\n"
   ]
  },
  {
   "cell_type": "markdown",
   "metadata": {},
   "source": [
    "**Q**: how can we obtain the same `X` but first concatenating, then summing the white noise?"
   ]
  },
  {
   "cell_type": "code",
   "execution_count": 3,
   "metadata": {},
   "outputs": [
    {
     "name": "stdout",
     "output_type": "stream",
     "text": [
      "y (response)\n",
      "tensor([[0.],\n",
      "        [1.],\n",
      "        [2.],\n",
      "        [3.],\n",
      "        [4.],\n",
      "        [5.],\n",
      "        [6.],\n",
      "        [7.],\n",
      "        [8.],\n",
      "        [9.]])\n",
      "\n",
      "\n"
     ]
    }
   ],
   "source": [
    "y = torch.arange(0, 10).float().unsqueeze(-1)\n",
    "\n",
    "pretty_print(y, \"y (response)\")"
   ]
  },
  {
   "cell_type": "markdown",
   "metadata": {},
   "source": [
    "For the case of linear regression, we usually wish to obtain a set of weights minimizing the so called mean square error/loss (MSE), which is the squared difference between the ground truth and the model prediction, summed for each data instance.\n",
    "\n",
    "We know that the OLS/Max Likelihood esitmator is the one yielding the optimal set of weights in that regard.\n",
    "\n",
    "$\\hat{W} = (X^\\top X)^{-1} X^\\top y$"
   ]
  },
  {
   "cell_type": "code",
   "execution_count": 4,
   "metadata": {},
   "outputs": [
    {
     "name": "stdout",
     "output_type": "stream",
     "text": [
      "W (optimal weights/coefficients [first 3] and bias/intercept [last one])\n",
      "tensor([[ 0.2090],\n",
      "        [ 0.0318],\n",
      "        [ 0.7938],\n",
      "        [-0.2135]])\n",
      "\n",
      "\n"
     ]
    }
   ],
   "source": [
    "W_hat = ((X.T @ X).inverse()) @ X.T @ y # OLS estimator\n",
    "\n",
    "pretty_print(W_hat, \"W (optimal weights/coefficients [first 3] and bias/intercept [last one])\")"
   ]
  },
  {
   "cell_type": "markdown",
   "metadata": {},
   "source": [
    "We can evaluate our model on the mean square loss\n",
    "\n",
    "**Q**: what is its formula?\n",
    "\n",
    "$L(y,\\hat{y}) = \\frac{1}{n}  \\sum_{i = 1}^{n} (y_i - \\hat{y_i})$"
   ]
  },
  {
   "cell_type": "code",
   "execution_count": 5,
   "metadata": {},
   "outputs": [],
   "source": [
    "def mean_square_loss(y, y_hat):\n",
    "    return torch.sum((y-y_hat) ** 2)/y.numel()"
   ]
  },
  {
   "cell_type": "markdown",
   "metadata": {},
   "source": [
    "Let's apply it to our data.\n",
    "\n",
    "First we need to obtain the predictions, then we can evaluate the MSE."
   ]
  },
  {
   "cell_type": "code",
   "execution_count": 6,
   "metadata": {},
   "outputs": [
    {
     "name": "stdout",
     "output_type": "stream",
     "text": [
      "Predictions (y_hat)\n",
      "tensor([[0.0711],\n",
      "        [0.8959],\n",
      "        [2.0490],\n",
      "        [3.0628],\n",
      "        [4.0707],\n",
      "        [4.9092],\n",
      "        [5.9495],\n",
      "        [6.8446],\n",
      "        [8.0296],\n",
      "        [9.1200]])\n",
      "\n",
      "\n",
      "Loss (MSE)\n",
      "tensor(0.0077)\n",
      "\n",
      "\n"
     ]
    }
   ],
   "source": [
    "y_hat = X @ W_hat\n",
    "pretty_print(y_hat, \"Predictions (y_hat)\")\n",
    "\n",
    "pretty_print(mean_square_loss(y, y_hat), \"Loss (MSE)\")"
   ]
  },
  {
   "cell_type": "markdown",
   "metadata": {},
   "source": [
    "#### Using PT built-ins\n",
    "\n",
    "We will now be exploring the second chunk of PT functionalities, namely the built-in structures and routines supporting the creation of ML models.\n",
    "\n",
    "We can create the same model we have seen before using PT built-in structures, so we start to see them right away.\n",
    "\n",
    "Usually, a PT model is a `class` inheriting from `torch.nn.Module`. Inside this class, we'll define two methods:\n",
    "* the constructor (`__init__`) in which we define the building blocks of our model as class variables (later during our lectures we'll see more \"elegant\" methods to build models architectures)\n",
    "* the `forward` method, which specifies how the data fed into the model needs to be processed in order to produce the output\n",
    "\n",
    "Note for those who already know something about NNs: we don't need to define `backward` methods since we're constructing our model with built-in PT building blocks. PT automatically creates a `backward` routine based upon the `forward` method.\n",
    "\n",
    "Our model only has one building block (layer) which is a `Linear` layer.\n",
    "We need to specify the size of the input (i.e. the coefficients `W` of our linear regressor) and the size of the output (i.e. how many scalars it produces) of the layer. We additionaly request our layer to have a bias term `b` (which acts as the intercept of the hyperplane we saw before).\n",
    "\n",
    "The `Linear` layer processes its input as `XW + b`, which is exactly the (first) equation of the linear regressor we saw before.\n",
    "\n"
   ]
  },
  {
   "cell_type": "code",
   "execution_count": 7,
   "metadata": {},
   "outputs": [],
   "source": [
    "class LinearRegressor(torch.nn.Module):\n",
    "    def __init__(self):\n",
    "        super().__init__()\n",
    "        self.regressor = torch.nn.Linear(in_features=3, out_features=1, bias=True)\n",
    "\n",
    "    def forward(self, X):\n",
    "        return self.regressor(X)"
   ]
  },
  {
   "cell_type": "markdown",
   "metadata": {},
   "source": [
    "We can create an instance of our model and inspect the current parameters by using the `state_dict` method, which prints the building blocks of our model and their current parameters. Note that `state_dict` is essentially a dictonary indexed by the names of the building blocks which we defined inside the constructor (plus some additional identifiers if a layer has more than one set of parameters)."
   ]
  },
  {
   "cell_type": "code",
   "execution_count": 8,
   "metadata": {},
   "outputs": [
    {
     "name": "stdout",
     "output_type": "stream",
     "text": [
      "regressor.weight tensor([[-0.0021, -0.3715, -0.5584]])\n",
      "regressor.bias tensor([-0.4237])\n"
     ]
    }
   ],
   "source": [
    "lin_reg = LinearRegressor()\n",
    "\n",
    "for param_name, param in lin_reg.state_dict().items():\n",
    "    print(param_name, param)"
   ]
  },
  {
   "cell_type": "markdown",
   "metadata": {},
   "source": [
    "We can update the parameters via `state_dict` and re-using the same OLS estimates we obtained before.\n",
    "\n",
    "Note that PT is thought of for Deep Learning: it does not have (I think) the routines to solve different ML problems.\n",
    "\n",
    "Next time, we'll see how we can unleash PT's gradient-based iterative training routines and compare the results w.r.t. the OLS estimators."
   ]
  },
  {
   "cell_type": "code",
   "execution_count": 9,
   "metadata": {},
   "outputs": [
    {
     "data": {
      "text/plain": [
       "<All keys matched successfully>"
      ]
     },
     "execution_count": 9,
     "metadata": {},
     "output_type": "execute_result"
    }
   ],
   "source": [
    "state_dict = lin_reg.state_dict()\n",
    "state_dict[\"regressor.weight\"] = W_hat[:3].T\n",
    "state_dict[\"regressor.bias\"] = W_hat[3]\n",
    "lin_reg.load_state_dict(state_dict)"
   ]
  },
  {
   "cell_type": "code",
   "execution_count": 10,
   "metadata": {},
   "outputs": [
    {
     "name": "stdout",
     "output_type": "stream",
     "text": [
      "regressor.weight tensor([[0.2090, 0.0318, 0.7938]])\n",
      "regressor.bias tensor([-0.2135])\n"
     ]
    }
   ],
   "source": [
    "# Check if it worked\n",
    "for param_name, param in lin_reg.state_dict().items():\n",
    "    print(param_name, param)"
   ]
  },
  {
   "cell_type": "markdown",
   "metadata": {},
   "source": [
    "The `forward` method gets implicitly called by passing the data to our model's instance `lin_reg`:"
   ]
  },
  {
   "cell_type": "code",
   "execution_count": 11,
   "metadata": {},
   "outputs": [
    {
     "name": "stdout",
     "output_type": "stream",
     "text": [
      "Predictions of torch class\n",
      "tensor([[0.0711],\n",
      "        [0.8959],\n",
      "        [2.0490],\n",
      "        [3.0628],\n",
      "        [4.0707],\n",
      "        [4.9092],\n",
      "        [5.9495],\n",
      "        [6.8446],\n",
      "        [8.0296],\n",
      "        [9.1200]], grad_fn=<AddmmBackward0>)\n",
      "\n",
      "\n"
     ]
    }
   ],
   "source": [
    "X_lin_reg = X[:,:3]\n",
    "predictions_lin_reg = lin_reg(X_lin_reg)\n",
    "pretty_print(predictions_lin_reg, \"Predictions of torch class\")"
   ]
  },
  {
   "cell_type": "markdown",
   "metadata": {},
   "source": [
    "The predictions are the same as before"
   ]
  },
  {
   "cell_type": "code",
   "execution_count": 12,
   "metadata": {},
   "outputs": [
    {
     "name": "stdout",
     "output_type": "stream",
     "text": [
      "Predictions of linear model\n",
      "tensor([[0.0711],\n",
      "        [0.8959],\n",
      "        [2.0490],\n",
      "        [3.0628],\n",
      "        [4.0707],\n",
      "        [4.9092],\n",
      "        [5.9495],\n",
      "        [6.8446],\n",
      "        [8.0296],\n",
      "        [9.1200]])\n",
      "\n",
      "\n"
     ]
    }
   ],
   "source": [
    "pretty_print(y_hat, \"Predictions of linear model\")"
   ]
  },
  {
   "cell_type": "markdown",
   "metadata": {},
   "source": [
    "### Adding non-linearity\n",
    "\n",
    "One of the staples of DL is that the relationship between the `X`s and the predictions is **non-linear**.\n",
    "\n",
    "The non-linearity is obtain by applying a non-linear function (called *activation function*) after each linear layer.\n",
    "\n",
    "We can complicate just a little bit our linear model to create a **logistic regressor**:\n",
    "\n",
    "$y = \\text{logistic}(XW + b)$,\n",
    "\n",
    "where $\\text{logistic}(z) = \\exp(z) / (1 + \\exp(z))$\n",
    "\n",
    "The logistic function has different names:\n",
    "* in statistics, it's usually called *inverse logit* as well\n",
    "* in DL and mathematics, it's called *sigmoid function* due to its \"S\" shape and is often denoted with the symbol $\\sigma$\n",
    "\n",
    "Hystorically, the sigmoid was between the first activation functions used in NNs.\n",
    "\n",
    "![](img/sigmoid.png)\n",
    "\n",
    "Logistic regression is usually used as a **binary classification model** instead of a regression model.\n",
    "In this setting, we suppose we have two destination classes to which we assign values 0 and 1: `y ∈ {0, 1}`.\n",
    "Since the codomain of the sigmoid is `[0,1]`, we can interpret its output `ŷ` as a probability value, and assign each data to the class 0 if `ŷ <= 0.5`, to the class 1 otherwise.\n"
   ]
  },
  {
   "cell_type": "code",
   "execution_count": 13,
   "metadata": {},
   "outputs": [
    {
     "name": "stdout",
     "output_type": "stream",
     "text": [
      "y for our classification problem\n",
      "tensor([0., 1., 0., 0., 1., 1., 1., 0., 1., 1.])\n",
      "\n",
      "\n"
     ]
    }
   ],
   "source": [
    "y = torch.Tensor([0,1,0,0,1,1,1,0,1,1])\n",
    "pretty_print(y, \"y for our classification problem\")"
   ]
  },
  {
   "cell_type": "markdown",
   "metadata": {},
   "source": [
    "Note that we may also want our y to be a vector of `int`s.\n",
    "We can convert the `Tensor` type to `int` by calling the method `.long()` or `.int()` of `Tensor`.\n",
    "Usually, PT uses the long datatype for labels.\n",
    "\n",
    "As in NumPy, the type of the `Tensor` is found within the `dtype` variable of the given `Tensor`."
   ]
  },
  {
   "cell_type": "code",
   "execution_count": 14,
   "metadata": {},
   "outputs": [
    {
     "name": "stdout",
     "output_type": "stream",
     "text": [
      "y converted to int\n",
      "tensor([0, 1, 0, 0, 1, 1, 1, 0, 1, 1])\n",
      "\n",
      "\n",
      "Data type of y\n",
      "torch.int64\n",
      "\n",
      "\n"
     ]
    }
   ],
   "source": [
    "y = y.long()\n",
    "pretty_print(y, \"y converted to int\")\n",
    "pretty_print(y.dtype, \"Data type of y\")"
   ]
  },
  {
   "cell_type": "markdown",
   "metadata": {},
   "source": [
    "Let us now build our logistic regressor in PT.\n",
    "\n",
    "We only need one single addition wrt the linear regressor: in the `forward` method, we'll add the sigmoidal non-linearity by calling the `sigmoid` function within the `torch.nn.functional` library.\n",
    "\n",
    "Note that there also exist some \"mirror\" alias of these functionals within `torch.nn` (e.g. `torch.nn.Sigmoid`): we'll learn in the following lecture why these aliases are there and how to use them."
   ]
  },
  {
   "cell_type": "code",
   "execution_count": 17,
   "metadata": {},
   "outputs": [],
   "source": [
    "class LogisticRegressor(torch.nn.Module):\n",
    "    def __init__(self):\n",
    "        super().__init__()\n",
    "        # no difference wrt linear regressor\n",
    "        self.regressor = torch.nn.Linear(in_features=3, out_features=1)\n",
    "    \n",
    "    def forward(self, X):\n",
    "        out = self.regressor(X)\n",
    "        # here we apply the sigmoid fct to the output of regressor\n",
    "        out = torch.sigmoid(out)\n",
    "        return out\n",
    "#actually you can do better\n",
    "\n",
    "class BetterLogisticRegressor(LinearRegressor):\n",
    "    def __init__(self):\n",
    "        super().__init__()\n",
    "    def forward(self,x):\n",
    "        return torch.sigmoid(super().forward(x))"
   ]
  },
  {
   "cell_type": "markdown",
   "metadata": {},
   "source": [
    "We can instantiate our logistic regressor and use it to calculate our predictions on the same X as before.\n",
    "\n",
    "Note that **we're using the initial (random) weights which PT has assigned to the model parameters**.\n",
    "For our linear regressor, we were able to analytically obtain the OLS value of the parameters.\n",
    "In the case of logistic regression, there's no MaxLikelihood estimator obtainable in close form and we need to resort to numerical methods to obtain them.\n",
    "Since the part concerning numerical optimization will be discussed during the next Lab, we will not be training our model (hence results will obviously be sub-par)."
   ]
  },
  {
   "cell_type": "code",
   "execution_count": 18,
   "metadata": {},
   "outputs": [
    {
     "name": "stdout",
     "output_type": "stream",
     "text": [
      "logistic regressor predictions\n",
      "tensor([[0.5656],\n",
      "        [0.4965],\n",
      "        [0.4071],\n",
      "        [0.3741],\n",
      "        [0.3279],\n",
      "        [0.2731],\n",
      "        [0.2650],\n",
      "        [0.2090],\n",
      "        [0.1597],\n",
      "        [0.1382]], grad_fn=<SigmoidBackward0>)\n",
      "\n",
      "\n"
     ]
    }
   ],
   "source": [
    "log_reg = BetterLogisticRegressor()\n",
    "y_hat = log_reg(X_lin_reg)\n",
    "pretty_print(y_hat, \"logistic regressor predictions\")"
   ]
  },
  {
   "cell_type": "markdown",
   "metadata": {},
   "source": [
    "There exist many ways to evaluate the performance of the logistic regressor: one of them is **accuracy** (correctly identified units / total number of units).\n",
    "We can define a function to evaluate accuracy and calculate it on our model and data"
   ]
  },
  {
   "cell_type": "code",
   "execution_count": 19,
   "metadata": {},
   "outputs": [],
   "source": [
    "def accuracy(y, y_hat):\n",
    "    # Assign each y_hat to its predicted class\n",
    "    pred_classes = torch.where(y_hat < .5, 0, 1).squeeze().long() #squeeze deletes all singleton dimensions, eg a vector [4,1] -> [4]\n",
    "    correct = (pred_classes == y).sum()\n",
    "    return (correct / y.shape[0]).item()"
   ]
  },
  {
   "cell_type": "code",
   "execution_count": 20,
   "metadata": {},
   "outputs": [
    {
     "data": {
      "text/plain": [
       "0.30000001192092896"
      ]
     },
     "execution_count": 20,
     "metadata": {},
     "output_type": "execute_result"
    }
   ],
   "source": [
    "accuracy(y, y_hat)"
   ]
  },
  {
   "cell_type": "markdown",
   "metadata": {},
   "source": [
    "#### Visualizing linear and logistic regression as a computational graph\n",
    "\n",
    "We now need to convert the equation of the linear and the logistic regression:\n",
    "* `y = σ(WX + b)`\n",
    "\n",
    "where `σ` is a generic `ℝ → ℝ` function: sigmoid for logistic regression, identity for linear regression.\n",
    "\n",
    "![](imgs/01/log_reg_graph.jpg)\n",
    "\n",
    "We organize the input in *nodes* (on the left part) s.t. each node represents one dimension/covariate.\n",
    "For each data instance, we substitute to each node the corresponding numeric value.\n",
    "The nodes undergo one or more operations, namely, from left to right:\n",
    "\n",
    "1. Each node is multiplied by its corresponding weight (a value placed on the edge indicates that the node is multiplied by said value)\n",
    "2. All the corresponding outputs are summed together\n",
    "\n",
    "These two operations identify the dot product between vectors `X` and `W`\n",
    "\n",
    "3. The bias term `b` is added\n",
    "4. The non-linear function `σ` is applied to the result of this sum\n",
    "5. Finally, we assign that value to the variable `ŷ`, which is also indicated as a node\n",
    "\n",
    "**Q**: what is the relationship between $b$ and $X_4$?\n",
    "\n",
    "b being the bias can be interpreted as the weight of an input which is fixed to 1"
   ]
  },
  {
   "cell_type": "markdown",
   "metadata": {},
   "source": [
    "### Our first MultiLayer Perceptron (MLP)\n",
    "\n",
    "The MLP is a family of Artificial NNs in which the input is a vector of size `ℝ^d` and the output is again a vector of size `ℝ^p`, where `p` is determined upon the nature of the problem we wish to solve. Additionally, a MLP is characterized by multiple stages (*layers*) of sequential vector-matrix multiplication and non-linearity (steps 1., 2., 3. above) in which each output of the layer `l-1` acts as input to the layer `l`.\n",
    "\n",
    "Taking inspiration to the graph of the logistic regression, we can translate all into an image to give sense to these words:\n",
    "\n",
    "![](imgs/01/mlp_graph.jpg)\n",
    "\n",
    "In NNs, each of the nodes within the graph is called a **neuron**\n",
    "\n",
    "Neurons are organized in **layers**\n",
    "\n",
    "In computational graphs, layers are shown from left to right (or bottom to top sometimes), which is the direction of the flow of information inside the NN.\n",
    "\n",
    "The first layer is called **input layer** and represents the dimensions of our data.\n",
    "\n",
    "The last layer is called **output layer** and represent the output of our NN.\n",
    "\n",
    "All the intermediate layers are called **hidden layers**. To be defined MLP, there must be at least one hidden layer inside our model.\n",
    "\n",
    "If the NN is an MLP, each neuron in a given layer (except for the input) receives information from every neuron of the previous; moreover, each neuron in any layer (except for the output) sends information to every neuron of the next layer. There's no communication between neurons of the same layer (if it happens, we have a **Recursive Neural Network**)."
   ]
  },
  {
   "cell_type": "markdown",
   "metadata": {},
   "source": [
    "For the sake of brevity, usually in NN computational graphs we drop the blocks `+` and `σ`, the values of weights, and the reference to the bias terms, remaining with a scheme conveying info about\n",
    "* the number of neurons per layer\n",
    "* the connectivity of neurons\n",
    "\n",
    "The graph above becomes:\n",
    "\n",
    "![](imgs/01/mlp_graph_common.jpg)\n",
    "\n",
    "We can then start programming our simple MLP in PT.\n",
    "\n",
    "We will suppose that our MLP is for **binary classification**, hence the activation function `τ` is the sigmoid."
   ]
  },
  {
   "cell_type": "code",
   "execution_count": 21,
   "metadata": {},
   "outputs": [],
   "source": [
    "class MLP(torch.nn.Module):\n",
    "    def __init__(self):\n",
    "        super().__init__()\n",
    "        self.layer1 = torch.nn.Linear(in_features=3, out_features=2)\n",
    "        self.layer2 = torch.nn.Linear(in_features=2, out_features=1)\n",
    "\n",
    "    def forward(self, X):\n",
    "        out = self.layer1(X)\n",
    "        out = torch.nn.functional.relu(out)\n",
    "        out = self.layer2(out)\n",
    "        out = torch.nn.functional.sigmoid(out)\n",
    "        return out\n"
   ]
  },
  {
   "cell_type": "markdown",
   "metadata": {},
   "source": [
    "For the great majority of MLP, it's very hard to get analytical solutions to our sets of weights and biases. We then resort to numerical methods for optimization.\n",
    "\n",
    "In DL, we normally used gradient-based methods like Stochastic Gradient Descent with *backpropagation* to find approximate solutions.\n",
    "\n",
    "We'll cover these topics in future lectures. For now, the focus is to build a MLP in PT and perform the *forward pass* (=evaluate the model on a set of data)."
   ]
  },
  {
   "cell_type": "markdown",
   "metadata": {},
   "source": [
    "We can analyse the structure of our MLP by just printing the model"
   ]
  },
  {
   "cell_type": "code",
   "execution_count": 22,
   "metadata": {},
   "outputs": [
    {
     "data": {
      "text/plain": [
       "MLP(\n",
       "  (layer1): Linear(in_features=3, out_features=2, bias=True)\n",
       "  (layer2): Linear(in_features=2, out_features=1, bias=True)\n",
       ")"
      ]
     },
     "execution_count": 22,
     "metadata": {},
     "output_type": "execute_result"
    }
   ],
   "source": [
    "model = MLP()\n",
    "model"
   ]
  },
  {
   "cell_type": "markdown",
   "metadata": {},
   "source": [
    "although we might wanna have additional informations.\n",
    "\n",
    "There's an additional package, called `torchinfo` which helps us producing more informative and exhaustive model summaries.\n",
    "\n",
    "We can install it from the terminal:\n",
    "\n",
    "- activate the conda env\n",
    "- `conda install -c conda-forge torchinfo`\n",
    "\n",
    "On Colab, remember that you can execute bash commands prepending a `!` to the command itself."
   ]
  },
  {
   "cell_type": "code",
   "execution_count": 25,
   "metadata": {},
   "outputs": [
    {
     "data": {
      "text/plain": [
       "=================================================================\n",
       "Layer (type:depth-idx)                   Param #\n",
       "=================================================================\n",
       "MLP                                      --\n",
       "├─Linear: 1-1                            8\n",
       "├─Linear: 1-2                            3\n",
       "=================================================================\n",
       "Total params: 11\n",
       "Trainable params: 11\n",
       "Non-trainable params: 0\n",
       "================================================================="
      ]
     },
     "execution_count": 25,
     "metadata": {},
     "output_type": "execute_result"
    }
   ],
   "source": [
    "from torchinfo import summary\n",
    "summary(model)"
   ]
  },
  {
   "cell_type": "markdown",
   "metadata": {},
   "source": [
    "#### Usage of `Sequential`\n",
    "\n",
    "If we have a neural network whose forward pass just processes the layers in sequence in a given order, we can also wrap the layers inside a `torch.nn.Sequential` structure.\n",
    "\n",
    "Note that:\n",
    "1. In this case, all the activation functions must be passed as their `nn.Module` counterpart, not as `torch.nn.functional` functions\n",
    "2. The data flows in the layers according to the order dictated in the constructor\n",
    "\n",
    "**Q**: How can I build the `forward` method now?\n"
   ]
  },
  {
   "cell_type": "code",
   "execution_count": 29,
   "metadata": {},
   "outputs": [],
   "source": [
    "class MLP(torch.nn.Module):\n",
    "    def __init__(self):\n",
    "        super().__init__()\n",
    "        self.layers = torch.nn.Sequential(\n",
    "            torch.nn.Linear(3, 2),\n",
    "            torch.nn.ReLU(),\n",
    "            torch.nn.Linear(2, 1),\n",
    "            torch.nn.Sigmoid()\n",
    "        )\n",
    "\n",
    "    def forward(self, X):\n",
    "        return self.layers.forward(X)\n",
    "\n"
   ]
  },
  {
   "cell_type": "markdown",
   "metadata": {},
   "source": [
    "Let us suppose we wish to build a larger model from the graph below.\n",
    "\n",
    "![](imgs/01/mlp_graph_larger.jpg)\n",
    "\n",
    "We suppose that\n",
    "\n",
    "1. The layers have no bias units\n",
    "2. The activation function for hidden layers is `ReLU`\n",
    "\n",
    "    $ \\text{ReLU}(x) = \\max(0, x)$\n",
    "\n",
    "Moreover, we suppose that this is a classification problem.\n",
    "\n",
    "As you might recall, when the number of classes is > 2, we encode the problem in such a way that the output layer has a no. of neurons corresponding to the no. of classes. Doing so, we establish a correspondence between output units and classes. The value of the $j$-th neuron represents the **confidence** of the network in assigning a given data instance to the $j$-th class.\n",
    "\n",
    "Classically, when the network is encoded in such way, the activation function for the final layer is the **softmax** function.\n",
    "If $C$ is the total number of classes,\n",
    "\n",
    "$softmax(z_j) = \\frac{\\exp(z_j)}{\\sum_{k=1}^C \\exp(z_k)}$\n",
    "\n",
    "where $j\\in \\{1,\\cdots,C\\}$ is one of the classes.\n",
    "\n",
    "If we repeat this calculation for all $j$ s, we end up with $C$ normalized values (i.e., between 0 and 1) which can be interpreted as a confidence that the network has in assigning the instance to the corresponding class."
   ]
  },
  {
   "cell_type": "markdown",
   "metadata": {},
   "source": [
    "#### Homework\n",
    "\n",
    "1. build the MLP in the image above using PT built-ins\n",
    "2. Provide calculation for the exact number of parameters of the MLP\n",
    "   - Do it first supposing that the layers don't have a bias term, then supposing that the bias is present wherever it's possible\n",
    "3. Calculate the $L_1$ (vectorial) norm and the Frobenius norm for the params of each layer\n",
    "4. Given 10 random datapoints, feed them into the network. This operation must be done all in one single command and must **not** make use of loops.\n",
    "   - Given the output of the network, using PyTorch code, find the class of assignment of each datapoint. This also must be done in a single PyTorch command without using loops.\n",
    "   - Drafting a vector of ground truths (whichever labels you like), provide code for the calculation of the accuracy\n",
    "     - Tip: first get the number of correct assignments, then..."
   ]
  }
 ],
 "metadata": {
  "kernelspec": {
   "display_name": "Python 3",
   "language": "python",
   "name": "python3"
  },
  "language_info": {
   "codemirror_mode": {
    "name": "ipython",
    "version": 3
   },
   "file_extension": ".py",
   "mimetype": "text/x-python",
   "name": "python",
   "nbconvert_exporter": "python",
   "pygments_lexer": "ipython3",
   "version": "3.9.10"
  },
  "orig_nbformat": 2
 },
 "nbformat": 4,
 "nbformat_minor": 2
}
