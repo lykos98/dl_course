{
 "cells": [
  {
   "cell_type": "code",
   "execution_count": 1,
   "metadata": {},
   "outputs": [],
   "source": [
    "import torch\n",
    "import sys, os\n",
    "\n",
    "sys.path.append(\"../\")\n",
    "\n",
    "from myScripts import myTrain, architectures, mnist, losses"
   ]
  },
  {
   "cell_type": "code",
   "execution_count": 2,
   "metadata": {},
   "outputs": [],
   "source": [
    "train_loader, test_loader = mnist.get_data(data_root = \"../datasets\")\n"
   ]
  },
  {
   "cell_type": "code",
   "execution_count": 3,
   "metadata": {},
   "outputs": [],
   "source": [
    "model = architectures.MLP()\n",
    "optimizer = torch.optim.SGD(model.parameters(), lr = 0.01)"
   ]
  },
  {
   "cell_type": "code",
   "execution_count": 4,
   "metadata": {},
   "outputs": [
    {
     "name": "stdout",
     "output_type": "stream",
     "text": [
      "Epoch: 0\n"
     ]
    },
    {
     "ename": "RuntimeError",
     "evalue": "\"log_softmax_lastdim_kernel_impl\" not implemented for 'Long'",
     "output_type": "error",
     "traceback": [
      "\u001b[0;31m---------------------------------------------------------------------------\u001b[0m",
      "\u001b[0;31mRuntimeError\u001b[0m                              Traceback (most recent call last)",
      "\u001b[1;32m/home/francesco/Desktop/dssc/deeplearning/dl_course/assingments/05/05_Tomba.ipynb Cell 4'\u001b[0m in \u001b[0;36m<cell line: 1>\u001b[0;34m()\u001b[0m\n\u001b[0;32m----> <a href='vscode-notebook-cell:/home/francesco/Desktop/dssc/deeplearning/dl_course/assingments/05/05_Tomba.ipynb#ch0000003?line=0'>1</a>\u001b[0m train_loss, train_acc, valid_loss, valid_accuracy \u001b[39m=\u001b[39m myTrain\u001b[39m.\u001b[39;49mtrain(model, train_loader, test_loader, torch\u001b[39m.\u001b[39;49mnn\u001b[39m.\u001b[39;49mCrossEntropyLoss(), optimizer, epochs\u001b[39m=\u001b[39;49m\u001b[39m5\u001b[39;49m)\n",
      "File \u001b[0;32m~/Desktop/dssc/deeplearning/dl_course/assingments/05/../myScripts/myTrain.py:183\u001b[0m, in \u001b[0;36mtrain\u001b[0;34m(model, train_dataloader, validation_dataloader, loss_fn, optimizer, epochs, validation_split, device, performance, checkpoint_location, checkpoint_name, early_stopping, early_stopping_criterion)\u001b[0m\n\u001b[1;32m    <a href='file:///home/francesco/Desktop/dssc/deeplearning/dl_course/assingments/05/../myScripts/myTrain.py?line=179'>180</a>\u001b[0m train_pass(model,train_dataloader, loss_fn, optimizer, device, train_loss_tracker, train_performance_tracker)\n\u001b[1;32m    <a href='file:///home/francesco/Desktop/dssc/deeplearning/dl_course/assingments/05/../myScripts/myTrain.py?line=181'>182</a>\u001b[0m model\u001b[39m.\u001b[39meval()\n\u001b[0;32m--> <a href='file:///home/francesco/Desktop/dssc/deeplearning/dl_course/assingments/05/../myScripts/myTrain.py?line=182'>183</a>\u001b[0m validation_pass(model,validation_dataloader, loss_fn, device, validation_loss_tracker, validation_performance_tracker)\n\u001b[1;32m    <a href='file:///home/francesco/Desktop/dssc/deeplearning/dl_course/assingments/05/../myScripts/myTrain.py?line=184'>185</a>\u001b[0m \u001b[39m#print (f\"Epoch: {epoch}\")\u001b[39;00m\n\u001b[1;32m    <a href='file:///home/francesco/Desktop/dssc/deeplearning/dl_course/assingments/05/../myScripts/myTrain.py?line=185'>186</a>\u001b[0m \u001b[39mprint\u001b[39m (\u001b[39mf\u001b[39m\u001b[39m\"\u001b[39m\u001b[39mTraining loss: \u001b[39m\u001b[39m{\u001b[39;00mtrain_loss_tracker\u001b[39m.\u001b[39mbatch_avg\u001b[39m}\u001b[39;00m\u001b[39m \u001b[39m\u001b[39m\\t\u001b[39;00m\u001b[39m Training perf metric \u001b[39m\u001b[39m{\u001b[39;00mtrain_performance_tracker\u001b[39m.\u001b[39mbatch_avg\u001b[39m}\u001b[39;00m\u001b[39m\"\u001b[39m)\n",
      "File \u001b[0;32m~/Desktop/dssc/deeplearning/dl_course/assingments/05/../myScripts/myTrain.py:138\u001b[0m, in \u001b[0;36mvalidation_pass\u001b[0;34m(model, dataloader, loss_fn, device, loss_tracker, metric_tracker)\u001b[0m\n\u001b[1;32m    <a href='file:///home/francesco/Desktop/dssc/deeplearning/dl_course/assingments/05/../myScripts/myTrain.py?line=135'>136</a>\u001b[0m y \u001b[39m=\u001b[39m torch\u001b[39m.\u001b[39mnn\u001b[39m.\u001b[39mfunctional\u001b[39m.\u001b[39mone_hot(y, \u001b[39m10\u001b[39m)\n\u001b[1;32m    <a href='file:///home/francesco/Desktop/dssc/deeplearning/dl_course/assingments/05/../myScripts/myTrain.py?line=136'>137</a>\u001b[0m y_hat \u001b[39m=\u001b[39m model(x)\n\u001b[0;32m--> <a href='file:///home/francesco/Desktop/dssc/deeplearning/dl_course/assingments/05/../myScripts/myTrain.py?line=137'>138</a>\u001b[0m loss \u001b[39m=\u001b[39m loss_fn(y, y_hat)\n\u001b[1;32m    <a href='file:///home/francesco/Desktop/dssc/deeplearning/dl_course/assingments/05/../myScripts/myTrain.py?line=138'>139</a>\u001b[0m loss\u001b[39m.\u001b[39mbackward()\n\u001b[1;32m    <a href='file:///home/francesco/Desktop/dssc/deeplearning/dl_course/assingments/05/../myScripts/myTrain.py?line=139'>140</a>\u001b[0m loss_tracker\u001b[39m.\u001b[39mupdate_epoch(loss)\n",
      "File \u001b[0;32m~/anaconda3/envs/dl/lib/python3.9/site-packages/torch/nn/modules/module.py:1102\u001b[0m, in \u001b[0;36mModule._call_impl\u001b[0;34m(self, *input, **kwargs)\u001b[0m\n\u001b[1;32m   <a href='file:///home/francesco/anaconda3/envs/dl/lib/python3.9/site-packages/torch/nn/modules/module.py?line=1097'>1098</a>\u001b[0m \u001b[39m# If we don't have any hooks, we want to skip the rest of the logic in\u001b[39;00m\n\u001b[1;32m   <a href='file:///home/francesco/anaconda3/envs/dl/lib/python3.9/site-packages/torch/nn/modules/module.py?line=1098'>1099</a>\u001b[0m \u001b[39m# this function, and just call forward.\u001b[39;00m\n\u001b[1;32m   <a href='file:///home/francesco/anaconda3/envs/dl/lib/python3.9/site-packages/torch/nn/modules/module.py?line=1099'>1100</a>\u001b[0m \u001b[39mif\u001b[39;00m \u001b[39mnot\u001b[39;00m (\u001b[39mself\u001b[39m\u001b[39m.\u001b[39m_backward_hooks \u001b[39mor\u001b[39;00m \u001b[39mself\u001b[39m\u001b[39m.\u001b[39m_forward_hooks \u001b[39mor\u001b[39;00m \u001b[39mself\u001b[39m\u001b[39m.\u001b[39m_forward_pre_hooks \u001b[39mor\u001b[39;00m _global_backward_hooks\n\u001b[1;32m   <a href='file:///home/francesco/anaconda3/envs/dl/lib/python3.9/site-packages/torch/nn/modules/module.py?line=1100'>1101</a>\u001b[0m         \u001b[39mor\u001b[39;00m _global_forward_hooks \u001b[39mor\u001b[39;00m _global_forward_pre_hooks):\n\u001b[0;32m-> <a href='file:///home/francesco/anaconda3/envs/dl/lib/python3.9/site-packages/torch/nn/modules/module.py?line=1101'>1102</a>\u001b[0m     \u001b[39mreturn\u001b[39;00m forward_call(\u001b[39m*\u001b[39;49m\u001b[39minput\u001b[39;49m, \u001b[39m*\u001b[39;49m\u001b[39m*\u001b[39;49mkwargs)\n\u001b[1;32m   <a href='file:///home/francesco/anaconda3/envs/dl/lib/python3.9/site-packages/torch/nn/modules/module.py?line=1102'>1103</a>\u001b[0m \u001b[39m# Do not call functions when jit is used\u001b[39;00m\n\u001b[1;32m   <a href='file:///home/francesco/anaconda3/envs/dl/lib/python3.9/site-packages/torch/nn/modules/module.py?line=1103'>1104</a>\u001b[0m full_backward_hooks, non_full_backward_hooks \u001b[39m=\u001b[39m [], []\n",
      "File \u001b[0;32m~/anaconda3/envs/dl/lib/python3.9/site-packages/torch/nn/modules/loss.py:1150\u001b[0m, in \u001b[0;36mCrossEntropyLoss.forward\u001b[0;34m(self, input, target)\u001b[0m\n\u001b[1;32m   <a href='file:///home/francesco/anaconda3/envs/dl/lib/python3.9/site-packages/torch/nn/modules/loss.py?line=1148'>1149</a>\u001b[0m \u001b[39mdef\u001b[39;00m \u001b[39mforward\u001b[39m(\u001b[39mself\u001b[39m, \u001b[39minput\u001b[39m: Tensor, target: Tensor) \u001b[39m-\u001b[39m\u001b[39m>\u001b[39m Tensor:\n\u001b[0;32m-> <a href='file:///home/francesco/anaconda3/envs/dl/lib/python3.9/site-packages/torch/nn/modules/loss.py?line=1149'>1150</a>\u001b[0m     \u001b[39mreturn\u001b[39;00m F\u001b[39m.\u001b[39;49mcross_entropy(\u001b[39minput\u001b[39;49m, target, weight\u001b[39m=\u001b[39;49m\u001b[39mself\u001b[39;49m\u001b[39m.\u001b[39;49mweight,\n\u001b[1;32m   <a href='file:///home/francesco/anaconda3/envs/dl/lib/python3.9/site-packages/torch/nn/modules/loss.py?line=1150'>1151</a>\u001b[0m                            ignore_index\u001b[39m=\u001b[39;49m\u001b[39mself\u001b[39;49m\u001b[39m.\u001b[39;49mignore_index, reduction\u001b[39m=\u001b[39;49m\u001b[39mself\u001b[39;49m\u001b[39m.\u001b[39;49mreduction,\n\u001b[1;32m   <a href='file:///home/francesco/anaconda3/envs/dl/lib/python3.9/site-packages/torch/nn/modules/loss.py?line=1151'>1152</a>\u001b[0m                            label_smoothing\u001b[39m=\u001b[39;49m\u001b[39mself\u001b[39;49m\u001b[39m.\u001b[39;49mlabel_smoothing)\n",
      "File \u001b[0;32m~/anaconda3/envs/dl/lib/python3.9/site-packages/torch/nn/functional.py:2846\u001b[0m, in \u001b[0;36mcross_entropy\u001b[0;34m(input, target, weight, size_average, ignore_index, reduce, reduction, label_smoothing)\u001b[0m\n\u001b[1;32m   <a href='file:///home/francesco/anaconda3/envs/dl/lib/python3.9/site-packages/torch/nn/functional.py?line=2843'>2844</a>\u001b[0m \u001b[39mif\u001b[39;00m size_average \u001b[39mis\u001b[39;00m \u001b[39mnot\u001b[39;00m \u001b[39mNone\u001b[39;00m \u001b[39mor\u001b[39;00m reduce \u001b[39mis\u001b[39;00m \u001b[39mnot\u001b[39;00m \u001b[39mNone\u001b[39;00m:\n\u001b[1;32m   <a href='file:///home/francesco/anaconda3/envs/dl/lib/python3.9/site-packages/torch/nn/functional.py?line=2844'>2845</a>\u001b[0m     reduction \u001b[39m=\u001b[39m _Reduction\u001b[39m.\u001b[39mlegacy_get_string(size_average, reduce)\n\u001b[0;32m-> <a href='file:///home/francesco/anaconda3/envs/dl/lib/python3.9/site-packages/torch/nn/functional.py?line=2845'>2846</a>\u001b[0m \u001b[39mreturn\u001b[39;00m torch\u001b[39m.\u001b[39;49m_C\u001b[39m.\u001b[39;49m_nn\u001b[39m.\u001b[39;49mcross_entropy_loss(\u001b[39minput\u001b[39;49m, target, weight, _Reduction\u001b[39m.\u001b[39;49mget_enum(reduction), ignore_index, label_smoothing)\n",
      "\u001b[0;31mRuntimeError\u001b[0m: \"log_softmax_lastdim_kernel_impl\" not implemented for 'Long'"
     ]
    }
   ],
   "source": [
    "train_loss, train_acc, valid_loss, valid_accuracy = myTrain.train(model, train_loader, test_loader, torch.nn.CrossEntropyLoss(), optimizer, epochs=5)"
   ]
  },
  {
   "cell_type": "code",
   "execution_count": null,
   "metadata": {},
   "outputs": [],
   "source": [
    "for x,y in train_loader:\n",
    "    print(torch.nn.functional.one_hot(y))\n",
    "    break"
   ]
  },
  {
   "cell_type": "code",
   "execution_count": null,
   "metadata": {},
   "outputs": [],
   "source": []
  }
 ],
 "metadata": {
  "interpreter": {
   "hash": "8feeccfccaf5a7e6e6ab46f8ad1c6cf5343db38cddefdd7c9d39ef2b4cb6dc36"
  },
  "kernelspec": {
   "display_name": "Python 3.9.10 ('dl')",
   "language": "python",
   "name": "python3"
  },
  "language_info": {
   "codemirror_mode": {
    "name": "ipython",
    "version": 3
   },
   "file_extension": ".py",
   "mimetype": "text/x-python",
   "name": "python",
   "nbconvert_exporter": "python",
   "pygments_lexer": "ipython3",
   "version": "3.9.10"
  },
  "orig_nbformat": 4
 },
 "nbformat": 4,
 "nbformat_minor": 2
}
