{
 "cells": [
  {
   "cell_type": "code",
   "execution_count": null,
   "metadata": {},
   "outputs": [],
   "source": [
    "import torch\n",
    "import sys, os\n",
    "\n",
    "sys.path.append(\"../\")\n",
    "\n",
    "from myScripts import myTrain, architectures, mnist, losses, optimizers"
   ]
  },
  {
   "cell_type": "code",
   "execution_count": null,
   "metadata": {},
   "outputs": [],
   "source": [
    "train_loader, test_loader = mnist.get_data(data_root = \"../datasets\")\n"
   ]
  },
  {
   "cell_type": "code",
   "execution_count": null,
   "metadata": {},
   "outputs": [],
   "source": [
    "model = architectures.MLP()\n",
    "optimizer = torch.optim.SGD(model.parameters(), lr = 0.01)"
   ]
  },
  {
   "cell_type": "code",
   "execution_count": null,
   "metadata": {},
   "outputs": [],
   "source": [
    "train_loss, train_acc, valid_loss, valid_accuracy = myTrain.train(  model, train_loader, test_loader, \n",
    "                                                                    losses.mse_l1_regularization, optimizer, \n",
    "                                                                    epochs=8,early_stopping=True, \n",
    "                                                                    early_stopping_criterion=\"Eopt\",\n",
    "                                                                    regularization_in_loss=True)"
   ]
  },
  {
   "cell_type": "code",
   "execution_count": 13,
   "metadata": {},
   "outputs": [
    {
     "name": "stdout",
     "output_type": "stream",
     "text": [
      "Epoch: 0\n",
      "Training loss: 0.7570813374678294 \t Training perf metric 0.666366696357727\n",
      "Validation loss: 0.3207515797773997 \t Validation perf metric 0.856333315372467\n",
      "Saved model at epoch: 1\n",
      "Epoch: 1\n",
      "Training loss: 0.36421209937731425 \t Training perf metric 0.8418833613395691\n",
      "Validation loss: 0.23080344944794973 \t Validation perf metric 0.8912666440010071\n",
      "Saved model at epoch: 2\n",
      "Epoch: 2\n",
      "Training loss: 0.2920043037255605 \t Training perf metric 0.8748833537101746\n",
      "Validation loss: 0.19532612272898356 \t Validation perf metric 0.9058666825294495\n",
      "Saved model at epoch: 3\n",
      "Epoch: 3\n",
      "Training loss: 0.25941556369463603 \t Training perf metric 0.8873500227928162\n",
      "Validation loss: 0.17940451860427856 \t Validation perf metric 0.9132000207901001\n",
      "Saved model at epoch: 4\n",
      "Epoch: 4\n",
      "Training loss: 0.23709911743799844 \t Training perf metric 0.8976500034332275\n",
      "Validation loss: 0.1649211400906245 \t Validation perf metric 0.915149986743927\n",
      "Saved model at epoch: 5\n",
      "Epoch: 5\n",
      "Training loss: 0.2231786899725596 \t Training perf metric 0.902999997138977\n",
      "Validation loss: 0.15865662823518117 \t Validation perf metric 0.9200166463851929\n",
      "Saved model at epoch: 6\n",
      "Epoch: 6\n",
      "Training loss: 0.21266168491840362 \t Training perf metric 0.9073500037193298\n",
      "Validation loss: 0.15270520202318827 \t Validation perf metric 0.9213166832923889\n",
      "Saved model at epoch: 7\n",
      "Epoch: 7\n",
      "Training loss: 0.2044450426975886 \t Training perf metric 0.909766674041748\n",
      "Validation loss: 0.16626183421214422 \t Validation perf metric 0.9077833294868469\n"
     ]
    }
   ],
   "source": [
    "model = architectures.MLP()\n",
    "optimizer = optimizers.SGD_w_L1(model.parameters(), learning_rate=0.01)\n",
    "train_loss, train_acc, valid_loss, valid_accuracy = myTrain.train(  model, train_loader, test_loader, \n",
    "                                                                    losses.mse, optimizer, \n",
    "                                                                    epochs=8,early_stopping=True, \n",
    "                                                                    early_stopping_criterion=\"Eopt\",\n",
    "                                                                    regularization_in_loss=False)"
   ]
  }
 ],
 "metadata": {
  "interpreter": {
   "hash": "8feeccfccaf5a7e6e6ab46f8ad1c6cf5343db38cddefdd7c9d39ef2b4cb6dc36"
  },
  "kernelspec": {
   "display_name": "Python 3.9.10 ('dl')",
   "language": "python",
   "name": "python3"
  },
  "language_info": {
   "codemirror_mode": {
    "name": "ipython",
    "version": 3
   },
   "file_extension": ".py",
   "mimetype": "text/x-python",
   "name": "python",
   "nbconvert_exporter": "python",
   "pygments_lexer": "ipython3",
   "version": "3.9.10"
  },
  "orig_nbformat": 4
 },
 "nbformat": 4,
 "nbformat_minor": 2
}
