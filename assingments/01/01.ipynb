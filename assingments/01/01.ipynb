{
 "cells": [
  {
   "cell_type": "code",
   "execution_count": 2,
   "metadata": {},
   "outputs": [],
   "source": [
    "import torch \n",
    "import numpy as np\n",
    "import matplotlib.pyplot as plt"
   ]
  },
  {
   "cell_type": "code",
   "execution_count": 3,
   "metadata": {},
   "outputs": [],
   "source": [
    "class MyMLP(torch.nn.Module):\n",
    "    def __init__(self):\n",
    "        super().__init__()\n",
    "        self.layers = torch.nn.Sequential(\n",
    "            torch.nn.Linear(5,11),\n",
    "            torch.nn.ReLU(),\n",
    "            torch.nn.Linear(11,16),\n",
    "            torch.nn.ReLU(),\n",
    "            torch.nn.Linear(16,13),\n",
    "            torch.nn.ReLU(),\n",
    "            torch.nn.Linear(13,8),\n",
    "            torch.nn.ReLU(),\n",
    "            torch.nn.Linear(8,4),\n",
    "            torch.nn.Softmax(dim=1)\n",
    "        )\n",
    "    def forward(self,x):\n",
    "        return self.layers.forward(x)\n"
   ]
  },
  {
   "cell_type": "markdown",
   "metadata": {},
   "source": [
    "In order to calculate the exact number of parameters for each layer suppose to have the number of neurons in each layer:\n",
    "$d_1, d_2,\\cdots , d_n$\n",
    "\n",
    "This means that each neuron in the $k^{th}$ layer is connected to $d_{k+1}$ neurons. So the total number of parameters (bias excluded) \n",
    "needed in the $k^{th}$ layer is $d_k * d_{k+1}$\n",
    "\n",
    "So overall the total number of parameters is \n",
    "$$|W| = \\sum_{i = 1} ^ {n-1} d_i * d_{i+1}$$"
   ]
  },
  {
   "cell_type": "markdown",
   "metadata": {},
   "source": [
    "If we consider also the bias as an additional weight the formula becomes \n",
    "$$|W| = \\sum_{i = 1} ^ {n-1} (d_i + 1) * d_{i+1}$$"
   ]
  },
  {
   "cell_type": "code",
   "execution_count": 4,
   "metadata": {},
   "outputs": [
    {
     "name": "stdout",
     "output_type": "stream",
     "text": [
      "torch.Size([11, 5]) \t 1.857778787612915 \t \n",
      "torch.Size([11]) \t 0.8217586278915405 \t \n",
      "torch.Size([16, 11]) \t 2.3974788188934326 \t \n",
      "torch.Size([16]) \t 0.8743267059326172 \t \n",
      "torch.Size([13, 16]) \t 2.1002204418182373 \t \n",
      "torch.Size([13]) \t 0.5187804698944092 \t \n",
      "torch.Size([8, 13]) \t 1.644871473312378 \t \n",
      "torch.Size([8]) \t 0.40382179617881775 \t \n",
      "torch.Size([4, 8]) \t 1.065483570098877 \t \n",
      "torch.Size([4]) \t 0.5143529772758484 \t \n"
     ]
    },
    {
     "data": {
      "text/plain": [
       "=================================================================\n",
       "Layer (type:depth-idx)                   Param #\n",
       "=================================================================\n",
       "MyMLP                                    --\n",
       "├─Sequential: 1-1                        --\n",
       "│    └─Linear: 2-1                       66\n",
       "│    └─ReLU: 2-2                         --\n",
       "│    └─Linear: 2-3                       192\n",
       "│    └─ReLU: 2-4                         --\n",
       "│    └─Linear: 2-5                       221\n",
       "│    └─ReLU: 2-6                         --\n",
       "│    └─Linear: 2-7                       112\n",
       "│    └─ReLU: 2-8                         --\n",
       "│    └─Linear: 2-9                       36\n",
       "│    └─Softmax: 2-10                     --\n",
       "=================================================================\n",
       "Total params: 627\n",
       "Trainable params: 627\n",
       "Non-trainable params: 0\n",
       "================================================================="
      ]
     },
     "execution_count": 4,
     "metadata": {},
     "output_type": "execute_result"
    }
   ],
   "source": [
    "mlp = MyMLP()\n",
    "\n",
    "import numpy as np\n",
    "#looping through parameters\n",
    "#actually the method parameters returns biases and weights as different tensors\n",
    "#for matrices `torch.linalg.norm` returns the Frobenious norm, for vector the euclidean norm is returned\n",
    "for p in mlp.parameters():\n",
    "    print(p.shape, '\\t',f\"{torch.linalg.norm(p)} \")\n",
    "\n",
    "from torchinfo import summary\n",
    "summary(mlp)"
   ]
  },
  {
   "cell_type": "code",
   "execution_count": 5,
   "metadata": {},
   "outputs": [],
   "source": [
    "#generate 10 random datapoints\n",
    "x = torch.rand(10,5)"
   ]
  },
  {
   "cell_type": "code",
   "execution_count": 6,
   "metadata": {},
   "outputs": [
    {
     "name": "stdout",
     "output_type": "stream",
     "text": [
      "tensor([[0.3138, 0.1916, 0.2080, 0.2867],\n",
      "        [0.3160, 0.1893, 0.2052, 0.2895],\n",
      "        [0.3158, 0.1902, 0.2067, 0.2872],\n",
      "        [0.3140, 0.1905, 0.2078, 0.2877],\n",
      "        [0.3145, 0.1918, 0.2082, 0.2855],\n",
      "        [0.3152, 0.1908, 0.2078, 0.2862],\n",
      "        [0.3141, 0.1922, 0.2081, 0.2855],\n",
      "        [0.3156, 0.1907, 0.2062, 0.2875],\n",
      "        [0.3143, 0.1909, 0.2074, 0.2875],\n",
      "        [0.3154, 0.1906, 0.2076, 0.2864]], grad_fn=<SoftmaxBackward0>)\n"
     ]
    }
   ],
   "source": [
    "#forward pass through the network\n",
    "y = mlp.forward(x)\n",
    "print(y)"
   ]
  },
  {
   "cell_type": "code",
   "execution_count": 10,
   "metadata": {},
   "outputs": [
    {
     "name": "stdout",
     "output_type": "stream",
     "text": [
      "Neural network classification: tensor([0, 0, 0, 0, 0, 0, 0, 0, 0, 0])\n",
      "Random integer tensor to test the accuracy score against: tensor([0, 0, 3, 2, 2, 0, 3, 0, 2, 0])\n"
     ]
    }
   ],
   "source": [
    "#argmax returns the index for each row of the largest value\n",
    "#we are supposing that the example is classified according to \n",
    "\n",
    "y_class = torch.argmax(y, axis = 1)\n",
    "print(f\"Neural network classification: {y_class}\")\n",
    "y_true = torch.randint_like(y_class,0,4)\n",
    "print(f\"Random integer tensor to test the accuracy score against: {y_true}\")"
   ]
  },
  {
   "cell_type": "code",
   "execution_count": 11,
   "metadata": {},
   "outputs": [],
   "source": [
    "def accuracy(y_pred,y_true):\n",
    "    y_eq = (y_pred == y_true)\n",
    "    y_eq.int()\n",
    "    return float(torch.sum(y_eq)/y_eq.shape[0])"
   ]
  },
  {
   "cell_type": "code",
   "execution_count": 12,
   "metadata": {},
   "outputs": [
    {
     "data": {
      "text/plain": [
       "0.5"
      ]
     },
     "execution_count": 12,
     "metadata": {},
     "output_type": "execute_result"
    }
   ],
   "source": [
    "accuracy(y_class,y_true)"
   ]
  },
  {
   "cell_type": "code",
   "execution_count": null,
   "metadata": {},
   "outputs": [],
   "source": []
  }
 ],
 "metadata": {
  "interpreter": {
   "hash": "8feeccfccaf5a7e6e6ab46f8ad1c6cf5343db38cddefdd7c9d39ef2b4cb6dc36"
  },
  "kernelspec": {
   "display_name": "Python 3.9.10 ('dl')",
   "language": "python",
   "name": "python3"
  },
  "language_info": {
   "codemirror_mode": {
    "name": "ipython",
    "version": 3
   },
   "file_extension": ".py",
   "mimetype": "text/x-python",
   "name": "python",
   "nbconvert_exporter": "python",
   "pygments_lexer": "ipython3",
   "version": "3.9.10"
  },
  "orig_nbformat": 4
 },
 "nbformat": 4,
 "nbformat_minor": 2
}
