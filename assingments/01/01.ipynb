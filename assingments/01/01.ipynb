{
 "cells": [
  {
   "cell_type": "code",
   "execution_count": 2,
   "metadata": {},
   "outputs": [],
   "source": [
    "import torch \n",
    "import numpy as np\n",
    "import matplotlib.pyplot as plt"
   ]
  },
  {
   "cell_type": "code",
   "execution_count": 22,
   "metadata": {},
   "outputs": [],
   "source": [
    "class MyMLP(torch.nn.Module):\n",
    "    def __init__(self):\n",
    "        super().__init__()\n",
    "        self.layers = torch.nn.Sequential(\n",
    "            torch.nn.Linear(5,11),\n",
    "            torch.nn.ReLU(),\n",
    "            torch.nn.Linear(11,16),\n",
    "            torch.nn.ReLU(),\n",
    "            torch.nn.Linear(16,13),\n",
    "            torch.nn.ReLU(),\n",
    "            torch.nn.Linear(13,8),\n",
    "            torch.nn.ReLU(),\n",
    "            torch.nn.Linear(8,4),\n",
    "            torch.nn.Softmax(dim=1)\n",
    "        )\n",
    "    def forward(self,x):\n",
    "        return self.layers.forward(x)\n"
   ]
  },
  {
   "cell_type": "markdown",
   "metadata": {},
   "source": [
    "In order to calculate the exact number of parameters for each layer suppose to have the number of neurons in each layer:\n",
    "$d_1, d_2,\\cdots , d_n$\n",
    "\n",
    "This means that each neuron in the $k^{th}$ layer is connected to $d_{k+1}$ neurons. So the total number of parameters (bias excluded) \n",
    "needed in the $k^{th}$ layer is $d_k * d_{k+1}$\n",
    "\n",
    "So overall the total number of parameters is \n",
    "$$|W| = \\sum_{i = 1} ^ {n-1} d_i * d_{i+1}$$"
   ]
  },
  {
   "cell_type": "markdown",
   "metadata": {},
   "source": [
    "If we consider also the bias as an additional weight the formula becomes \n",
    "$$|W| = \\sum_{i = 1} ^ {n-1} (d_i + 1) * d_{i+1}$$"
   ]
  },
  {
   "cell_type": "code",
   "execution_count": 23,
   "metadata": {},
   "outputs": [
    {
     "name": "stdout",
     "output_type": "stream",
     "text": [
      "tensor(1.9922, grad_fn=<CopyBackwards>)\n",
      "tensor(0.9338, grad_fn=<CopyBackwards>)\n",
      "tensor(2.3889, grad_fn=<CopyBackwards>)\n",
      "tensor(0.8140, grad_fn=<CopyBackwards>)\n",
      "tensor(2.1699, grad_fn=<CopyBackwards>)\n",
      "tensor(0.4521, grad_fn=<CopyBackwards>)\n",
      "tensor(1.6237, grad_fn=<CopyBackwards>)\n",
      "tensor(0.4475, grad_fn=<CopyBackwards>)\n",
      "tensor(1.3018, grad_fn=<CopyBackwards>)\n",
      "tensor(0.4139, grad_fn=<CopyBackwards>)\n"
     ]
    }
   ],
   "source": [
    "mlp = MyMLP()\n",
    "for p in mlp.parameters():\n",
    "    print(torch.linalg.norm(p))"
   ]
  },
  {
   "cell_type": "code",
   "execution_count": 27,
   "metadata": {},
   "outputs": [],
   "source": [
    "#generate 10 random datapoints\n",
    "x = torch.rand(10,5)"
   ]
  },
  {
   "cell_type": "code",
   "execution_count": 32,
   "metadata": {},
   "outputs": [
    {
     "name": "stdout",
     "output_type": "stream",
     "text": [
      "tensor([[0.2712, 0.2812, 0.2726, 0.1749],\n",
      "        [0.2733, 0.2779, 0.2732, 0.1756],\n",
      "        [0.2737, 0.2774, 0.2735, 0.1754],\n",
      "        [0.2731, 0.2784, 0.2734, 0.1751],\n",
      "        [0.2734, 0.2785, 0.2730, 0.1750],\n",
      "        [0.2718, 0.2800, 0.2728, 0.1754],\n",
      "        [0.2740, 0.2776, 0.2733, 0.1751],\n",
      "        [0.2709, 0.2813, 0.2725, 0.1753],\n",
      "        [0.2731, 0.2777, 0.2734, 0.1757],\n",
      "        [0.2744, 0.2770, 0.2735, 0.1751]], grad_fn=<SoftmaxBackward0>)\n"
     ]
    }
   ],
   "source": [
    "y = mlp.forward(x)\n",
    "print(y)"
   ]
  },
  {
   "cell_type": "code",
   "execution_count": 37,
   "metadata": {},
   "outputs": [
    {
     "name": "stdout",
     "output_type": "stream",
     "text": [
      "tensor([1, 1, 1, 1, 1, 1, 1, 1, 1, 1])\n"
     ]
    }
   ],
   "source": [
    "y_class = torch.argmax(y, axis = 1)\n",
    "print(y_class)\n",
    "y_true = torch.randint_like(y_class,0,4)"
   ]
  },
  {
   "cell_type": "code",
   "execution_count": 38,
   "metadata": {},
   "outputs": [],
   "source": [
    "def accuracy(y_pred,y_true):\n",
    "    y_eq = (y_pred == y_true)\n",
    "    y_eq.int()\n",
    "    return torch.sum(y_eq)/y_eq.shape[0]"
   ]
  },
  {
   "cell_type": "code",
   "execution_count": 40,
   "metadata": {},
   "outputs": [
    {
     "data": {
      "text/plain": [
       "tensor(0.4000)"
      ]
     },
     "execution_count": 40,
     "metadata": {},
     "output_type": "execute_result"
    }
   ],
   "source": [
    "accuracy(y_class,y_true)"
   ]
  },
  {
   "cell_type": "code",
   "execution_count": null,
   "metadata": {},
   "outputs": [],
   "source": []
  }
 ],
 "metadata": {
  "interpreter": {
   "hash": "8feeccfccaf5a7e6e6ab46f8ad1c6cf5343db38cddefdd7c9d39ef2b4cb6dc36"
  },
  "kernelspec": {
   "display_name": "Python 3.9.10 ('dl')",
   "language": "python",
   "name": "python3"
  },
  "language_info": {
   "codemirror_mode": {
    "name": "ipython",
    "version": 3
   },
   "file_extension": ".py",
   "mimetype": "text/x-python",
   "name": "python",
   "nbconvert_exporter": "python",
   "pygments_lexer": "ipython3",
   "version": "3.9.10"
  },
  "orig_nbformat": 4
 },
 "nbformat": 4,
 "nbformat_minor": 2
}
