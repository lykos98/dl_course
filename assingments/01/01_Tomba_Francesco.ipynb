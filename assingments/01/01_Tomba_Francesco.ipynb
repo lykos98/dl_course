{
 "cells": [
  {
   "cell_type": "code",
   "execution_count": 2,
   "metadata": {},
   "outputs": [],
   "source": [
    "import torch \n",
    "import numpy as np\n",
    "import matplotlib.pyplot as plt"
   ]
  },
  {
   "cell_type": "code",
   "execution_count": 3,
   "metadata": {},
   "outputs": [],
   "source": [
    "class MyMLP(torch.nn.Module):\n",
    "    def __init__(self,bias = True):\n",
    "        super().__init__()\n",
    "        self.layers = torch.nn.Sequential(\n",
    "            torch.nn.Linear(5,11,bias=bias),\n",
    "            torch.nn.ReLU(),\n",
    "            torch.nn.Linear(11,16,bias=bias),\n",
    "            torch.nn.ReLU(),\n",
    "            torch.nn.Linear(16,13,bias=bias),\n",
    "            torch.nn.ReLU(),\n",
    "            torch.nn.Linear(13,8,bias=bias),\n",
    "            torch.nn.ReLU(),\n",
    "            torch.nn.Linear(8,4,bias=bias),\n",
    "            torch.nn.Softmax(dim=1)\n",
    "        )\n",
    "    def forward(self,x):\n",
    "        return self.layers.forward(x)\n"
   ]
  },
  {
   "cell_type": "markdown",
   "metadata": {},
   "source": [
    "In order to calculate the exact number of parameters for each layer suppose to have the number of neurons in each layer:\n",
    "$d_1, d_2,\\cdots , d_n$\n",
    "\n",
    "This means that each neuron in the $k^{th}$ layer is connected to $d_{k+1}$ neurons. So the total number of parameters (bias excluded) \n",
    "needed in the $k^{th}$ layer is $d_k * d_{k+1}$\n",
    "\n",
    "So overall the total number of parameters is \n",
    "$$|W| = \\sum_{i = 1} ^ {n-1} d_i * d_{i+1}$$"
   ]
  },
  {
   "cell_type": "markdown",
   "metadata": {},
   "source": [
    "If we consider also the bias as an additional weight the formula becomes \n",
    "$$|W| = \\sum_{i = 1} ^ {n-1} (d_i + 1) * d_{i+1}$$"
   ]
  },
  {
   "cell_type": "code",
   "execution_count": 4,
   "metadata": {},
   "outputs": [
    {
     "name": "stdout",
     "output_type": "stream",
     "text": [
      "torch.Size([11, 5]) \t Frobenius norm:  1.768 \t L1 norm  3.002\n",
      "torch.Size([16, 11]) \t Frobenius norm:  2.257 \t L1 norm  2.991\n",
      "torch.Size([13, 16]) \t Frobenius norm:  2.080 \t L1 norm  2.204\n",
      "torch.Size([8, 13]) \t Frobenius norm:  1.647 \t L1 norm  1.515\n",
      "torch.Size([4, 8]) \t Frobenius norm:  1.165 \t L1 norm  1.247\n"
     ]
    },
    {
     "data": {
      "text/plain": [
       "=================================================================\n",
       "Layer (type:depth-idx)                   Param #\n",
       "=================================================================\n",
       "MyMLP                                    --\n",
       "├─Sequential: 1-1                        --\n",
       "│    └─Linear: 2-1                       55\n",
       "│    └─ReLU: 2-2                         --\n",
       "│    └─Linear: 2-3                       176\n",
       "│    └─ReLU: 2-4                         --\n",
       "│    └─Linear: 2-5                       208\n",
       "│    └─ReLU: 2-6                         --\n",
       "│    └─Linear: 2-7                       104\n",
       "│    └─ReLU: 2-8                         --\n",
       "│    └─Linear: 2-9                       32\n",
       "│    └─Softmax: 2-10                     --\n",
       "=================================================================\n",
       "Total params: 575\n",
       "Trainable params: 575\n",
       "Non-trainable params: 0\n",
       "================================================================="
      ]
     },
     "execution_count": 4,
     "metadata": {},
     "output_type": "execute_result"
    }
   ],
   "source": [
    "mlp = MyMLP(bias = False)\n",
    "\n",
    "import numpy as np\n",
    "#looping through parameters\n",
    "#actually the method parameters returns biases and weights as different tensors\n",
    "#for matrices `torch.linalg.norm` returns the Frobenious norm, for vector the euclidean norm is returned\n",
    "for p in mlp.parameters():\n",
    "    print(p.shape, '\\t',f\"Frobenius norm: {torch.linalg.norm(p) : .3f} \\t L1 norm {torch.linalg.vector_norm(p, 1) : .3f}\")\n",
    "\n",
    "from torchinfo import summary\n",
    "summary(mlp)"
   ]
  },
  {
   "cell_type": "code",
   "execution_count": 5,
   "metadata": {},
   "outputs": [],
   "source": [
    "#generate 10 random datapoints\n",
    "x = torch.rand(10,5)"
   ]
  },
  {
   "cell_type": "code",
   "execution_count": 6,
   "metadata": {},
   "outputs": [
    {
     "name": "stdout",
     "output_type": "stream",
     "text": [
      "tensor([[0.2496, 0.2500, 0.2520, 0.2484],\n",
      "        [0.2489, 0.2502, 0.2540, 0.2470],\n",
      "        [0.2492, 0.2500, 0.2534, 0.2473],\n",
      "        [0.2491, 0.2502, 0.2530, 0.2478],\n",
      "        [0.2494, 0.2500, 0.2528, 0.2478],\n",
      "        [0.2491, 0.2501, 0.2535, 0.2473],\n",
      "        [0.2496, 0.2500, 0.2518, 0.2486],\n",
      "        [0.2489, 0.2501, 0.2543, 0.2466],\n",
      "        [0.2494, 0.2501, 0.2522, 0.2483],\n",
      "        [0.2492, 0.2500, 0.2535, 0.2472]], grad_fn=<SoftmaxBackward0>)\n"
     ]
    }
   ],
   "source": [
    "#forward pass through the network\n",
    "y = mlp.forward(x)\n",
    "print(y)"
   ]
  },
  {
   "cell_type": "code",
   "execution_count": 7,
   "metadata": {},
   "outputs": [
    {
     "name": "stdout",
     "output_type": "stream",
     "text": [
      "Neural network classification: tensor([2, 2, 2, 2, 2, 2, 2, 2, 2, 2])\n",
      "Random integer tensor to test the accuracy score against: tensor([1, 2, 3, 1, 1, 1, 1, 2, 0, 0])\n"
     ]
    }
   ],
   "source": [
    "#argmax returns the index for each row of the largest value\n",
    "#we are supposing that the example is classified according to \n",
    "\n",
    "y_class = torch.argmax(y, axis = 1)\n",
    "print(f\"Neural network classification: {y_class}\")\n",
    "y_true = torch.randint_like(y_class,0,4)\n",
    "print(f\"Random integer tensor to test the accuracy score against: {y_true}\")"
   ]
  },
  {
   "cell_type": "code",
   "execution_count": 10,
   "metadata": {},
   "outputs": [],
   "source": [
    "def accuracy(y_pred,y_true):\n",
    "    y_eq = (y_pred == y_true)\n",
    "    return float(torch.sum(y_eq)/y_eq.shape[0])"
   ]
  },
  {
   "cell_type": "code",
   "execution_count": 11,
   "metadata": {},
   "outputs": [
    {
     "data": {
      "text/plain": [
       "0.20000000298023224"
      ]
     },
     "execution_count": 11,
     "metadata": {},
     "output_type": "execute_result"
    }
   ],
   "source": [
    "accuracy(y_class,y_true)"
   ]
  },
  {
   "cell_type": "code",
   "execution_count": null,
   "metadata": {},
   "outputs": [],
   "source": []
  }
 ],
 "metadata": {
  "interpreter": {
   "hash": "8feeccfccaf5a7e6e6ab46f8ad1c6cf5343db38cddefdd7c9d39ef2b4cb6dc36"
  },
  "kernelspec": {
   "display_name": "Python 3.9.10 ('dl')",
   "language": "python",
   "name": "python3"
  },
  "language_info": {
   "codemirror_mode": {
    "name": "ipython",
    "version": 3
   },
   "file_extension": ".py",
   "mimetype": "text/x-python",
   "name": "python",
   "nbconvert_exporter": "python",
   "pygments_lexer": "ipython3",
   "version": "3.9.10"
  },
  "orig_nbformat": 4
 },
 "nbformat": 4,
 "nbformat_minor": 2
}
